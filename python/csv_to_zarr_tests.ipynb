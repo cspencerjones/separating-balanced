{
 "cells": [
  {
   "cell_type": "code",
   "execution_count": 45,
   "metadata": {},
   "outputs": [],
   "source": [
    "from glob import glob\n",
    "import re\n",
    "import shutil\n",
    "\n",
    "import numpy as np\n",
    "import pandas as pd\n",
    "import dask.dataframe as dpd\n",
    "import dask\n",
    "import zarr\n",
    "import xarray as xr\n",
    "from tqdm import tqdm"
   ]
  },
  {
   "cell_type": "markdown",
   "metadata": {},
   "source": [
    "## Examine the files"
   ]
  },
  {
   "cell_type": "code",
   "execution_count": 108,
   "metadata": {},
   "outputs": [
    {
     "data": {
      "text/plain": [
       "['/rigel/ocp/users/csj2114/swot/agulhas/run_1week_fwd/float_trajectories.0000000000.001.001.csv',\n",
       " '/rigel/ocp/users/csj2114/swot/agulhas/run_1week_fwd/float_trajectories.0000000000.001.002.csv',\n",
       " '/rigel/ocp/users/csj2114/swot/agulhas/run_1week_fwd/float_trajectories.0000000000.001.003.csv',\n",
       " '/rigel/ocp/users/csj2114/swot/agulhas/run_1week_fwd/float_trajectories.0000000000.001.004.csv']"
      ]
     },
     "execution_count": 108,
     "metadata": {},
     "output_type": "execute_result"
    }
   ],
   "source": [
    "ddir = '/rigel/ocp/users/csj2114/swot/agulhas/run_1week_fwd'\n",
    "fnames = sorted(glob(f'{ddir}/*.csv'))\n",
    "fnames[:4]"
   ]
  },
  {
   "cell_type": "code",
   "execution_count": 109,
   "metadata": {},
   "outputs": [
    {
     "data": {
      "text/plain": [
       "169"
      ]
     },
     "execution_count": 109,
     "metadata": {},
     "output_type": "execute_result"
    }
   ],
   "source": [
    "pattern = '.*\\.(\\d{10})\\.(\\d{3})\\.(\\d{3})\\.csv'\n",
    "r = re.compile(pattern)\n",
    "file_data = np.array(\n",
    "    [(int(m.group(1)), int(m.group(2)), int(m.group(3)))\n",
    "     for m in map(r.match, fnames)]\n",
    ")\n",
    "niters, ntile_x, ntile_y = file_data.transpose()\n",
    "niter_unique = np.unique(niters)\n",
    "len(niter_unique)"
   ]
  },
  {
   "cell_type": "code",
   "execution_count": 110,
   "metadata": {},
   "outputs": [
    {
     "data": {
      "text/html": [
       "<div>\n",
       "<style scoped>\n",
       "    .dataframe tbody tr th:only-of-type {\n",
       "        vertical-align: middle;\n",
       "    }\n",
       "\n",
       "    .dataframe tbody tr th {\n",
       "        vertical-align: top;\n",
       "    }\n",
       "\n",
       "    .dataframe thead th {\n",
       "        text-align: right;\n",
       "    }\n",
       "</style>\n",
       "<table border=\"1\" class=\"dataframe\">\n",
       "  <thead>\n",
       "    <tr style=\"text-align: right;\">\n",
       "      <th></th>\n",
       "      <th>niter</th>\n",
       "      <th>ntile_x</th>\n",
       "      <th>ntile_y</th>\n",
       "      <th>fnames</th>\n",
       "    </tr>\n",
       "  </thead>\n",
       "  <tbody>\n",
       "    <tr>\n",
       "      <th>0</th>\n",
       "      <td>0</td>\n",
       "      <td>1</td>\n",
       "      <td>1</td>\n",
       "      <td>/rigel/ocp/users/csj2114/swot/agulhas/run_1wee...</td>\n",
       "    </tr>\n",
       "    <tr>\n",
       "      <th>1</th>\n",
       "      <td>0</td>\n",
       "      <td>1</td>\n",
       "      <td>2</td>\n",
       "      <td>/rigel/ocp/users/csj2114/swot/agulhas/run_1wee...</td>\n",
       "    </tr>\n",
       "    <tr>\n",
       "      <th>2</th>\n",
       "      <td>0</td>\n",
       "      <td>1</td>\n",
       "      <td>3</td>\n",
       "      <td>/rigel/ocp/users/csj2114/swot/agulhas/run_1wee...</td>\n",
       "    </tr>\n",
       "    <tr>\n",
       "      <th>3</th>\n",
       "      <td>0</td>\n",
       "      <td>1</td>\n",
       "      <td>4</td>\n",
       "      <td>/rigel/ocp/users/csj2114/swot/agulhas/run_1wee...</td>\n",
       "    </tr>\n",
       "    <tr>\n",
       "      <th>4</th>\n",
       "      <td>0</td>\n",
       "      <td>1</td>\n",
       "      <td>5</td>\n",
       "      <td>/rigel/ocp/users/csj2114/swot/agulhas/run_1wee...</td>\n",
       "    </tr>\n",
       "    <tr>\n",
       "      <th>...</th>\n",
       "      <td>...</td>\n",
       "      <td>...</td>\n",
       "      <td>...</td>\n",
       "      <td>...</td>\n",
       "    </tr>\n",
       "    <tr>\n",
       "      <th>24331</th>\n",
       "      <td>24192</td>\n",
       "      <td>12</td>\n",
       "      <td>8</td>\n",
       "      <td>/rigel/ocp/users/csj2114/swot/agulhas/run_1wee...</td>\n",
       "    </tr>\n",
       "    <tr>\n",
       "      <th>24332</th>\n",
       "      <td>24192</td>\n",
       "      <td>12</td>\n",
       "      <td>9</td>\n",
       "      <td>/rigel/ocp/users/csj2114/swot/agulhas/run_1wee...</td>\n",
       "    </tr>\n",
       "    <tr>\n",
       "      <th>24333</th>\n",
       "      <td>24192</td>\n",
       "      <td>12</td>\n",
       "      <td>10</td>\n",
       "      <td>/rigel/ocp/users/csj2114/swot/agulhas/run_1wee...</td>\n",
       "    </tr>\n",
       "    <tr>\n",
       "      <th>24334</th>\n",
       "      <td>24192</td>\n",
       "      <td>12</td>\n",
       "      <td>11</td>\n",
       "      <td>/rigel/ocp/users/csj2114/swot/agulhas/run_1wee...</td>\n",
       "    </tr>\n",
       "    <tr>\n",
       "      <th>24335</th>\n",
       "      <td>24192</td>\n",
       "      <td>12</td>\n",
       "      <td>12</td>\n",
       "      <td>/rigel/ocp/users/csj2114/swot/agulhas/run_1wee...</td>\n",
       "    </tr>\n",
       "  </tbody>\n",
       "</table>\n",
       "<p>24336 rows × 4 columns</p>\n",
       "</div>"
      ],
      "text/plain": [
       "       niter  ntile_x  ntile_y  \\\n",
       "0          0        1        1   \n",
       "1          0        1        2   \n",
       "2          0        1        3   \n",
       "3          0        1        4   \n",
       "4          0        1        5   \n",
       "...      ...      ...      ...   \n",
       "24331  24192       12        8   \n",
       "24332  24192       12        9   \n",
       "24333  24192       12       10   \n",
       "24334  24192       12       11   \n",
       "24335  24192       12       12   \n",
       "\n",
       "                                                  fnames  \n",
       "0      /rigel/ocp/users/csj2114/swot/agulhas/run_1wee...  \n",
       "1      /rigel/ocp/users/csj2114/swot/agulhas/run_1wee...  \n",
       "2      /rigel/ocp/users/csj2114/swot/agulhas/run_1wee...  \n",
       "3      /rigel/ocp/users/csj2114/swot/agulhas/run_1wee...  \n",
       "4      /rigel/ocp/users/csj2114/swot/agulhas/run_1wee...  \n",
       "...                                                  ...  \n",
       "24331  /rigel/ocp/users/csj2114/swot/agulhas/run_1wee...  \n",
       "24332  /rigel/ocp/users/csj2114/swot/agulhas/run_1wee...  \n",
       "24333  /rigel/ocp/users/csj2114/swot/agulhas/run_1wee...  \n",
       "24334  /rigel/ocp/users/csj2114/swot/agulhas/run_1wee...  \n",
       "24335  /rigel/ocp/users/csj2114/swot/agulhas/run_1wee...  \n",
       "\n",
       "[24336 rows x 4 columns]"
      ]
     },
     "execution_count": 110,
     "metadata": {},
     "output_type": "execute_result"
    }
   ],
   "source": [
    "file_df = pd.DataFrame({'niter': niters, 'ntile_x': ntile_x, 'ntile_y': ntile_y, 'fnames': fnames})\n",
    "file_df"
   ]
  },
  {
   "cell_type": "code",
   "execution_count": 113,
   "metadata": {},
   "outputs": [
    {
     "data": {
      "text/plain": [
       "niter\n",
       "0        144\n",
       "144      144\n",
       "288      144\n",
       "432      144\n",
       "576      144\n",
       "        ... \n",
       "23616    144\n",
       "23760    144\n",
       "23904    144\n",
       "24048    144\n",
       "24192    144\n",
       "Name: fnames, Length: 169, dtype: int64"
      ]
     },
     "execution_count": 113,
     "metadata": {},
     "output_type": "execute_result"
    }
   ],
   "source": [
    "file_df.groupby('niter')['fnames'].count()"
   ]
  },
  {
   "cell_type": "markdown",
   "metadata": {},
   "source": [
    "## Load one timtestep to Xarray Dataset\n",
    "\n",
    "We experiment with two different approaches."
   ]
  },
  {
   "cell_type": "code",
   "execution_count": 99,
   "metadata": {},
   "outputs": [],
   "source": [
    "def timestep_to_ds_lazy(ddir, niter, npartitions=1):\n",
    "    \"\"\"\n",
    "    Read CSV files for one timestep and turn into an xarray dataset.\n",
    "    This function is *lazy* using dask throughout.\n",
    "    \"\"\"\n",
    "    fnames = sorted(glob(f'{ddir}/float_trajectories.{niter:010d}.*.csv'))\n",
    "    df = dpd.read_csv(fnames)\n",
    "    \n",
    "    # don't need time, since all the files have the same time\n",
    "    df = df.drop('time', axis=1)\n",
    "\n",
    "    # this is like rechunking\n",
    "    # it will consolidate all the rows into one in-memory block\n",
    "    df = df.repartition(npartitions=npartitions)\n",
    "    \n",
    "    # the more partitions, the slow this goes\n",
    "    df = df.set_index('npart')\n",
    "    \n",
    "    # convert to xarray dataset\n",
    "    dim = df.index.name\n",
    "    \n",
    "    # takes time, needs to read data\n",
    "    index_data = df.index.values.compute()\n",
    "    lengths = len(index_data)\n",
    "\n",
    "    coords = {dim: ([dim], index_data)}\n",
    "    data_vars = {v: ([dim], df[v].to_dask_array(lengths=(lengths,)))\n",
    "                 for v in df.columns}\n",
    "    ds = xr.Dataset(data_vars, coords)\n",
    "    \n",
    "    # now add time as a dimension\n",
    "    ds = ds.expand_dims('niter', axis=0)\n",
    "    ds.coords['niter'] = ('niter', [niter])\n",
    "\n",
    "    return ds"
   ]
  },
  {
   "cell_type": "code",
   "execution_count": 100,
   "metadata": {},
   "outputs": [],
   "source": [
    "def timestep_to_ds_eager(ddir, niter):\n",
    "    \"\"\"\n",
    "    Read CSV files for one timestep and turn into an xarray dataset.\n",
    "    This function is *eager*, loading the data into memory at the beginning.\n",
    "    \"\"\"\n",
    "    fnames = sorted(glob(f'{ddir}/float_trajectories.{niter:010d}.*.csv'))\n",
    "    df = dpd.read_csv(fnames)\n",
    "    \n",
    "    # load it all into memory\n",
    "    df = df.compute()\n",
    "    df = df.drop('time', axis=1)\n",
    "    \n",
    "    # much faster than dask for small dataframes\n",
    "    df = df.set_index('npart')\n",
    "    \n",
    "    ds = df.to_xarray()\n",
    "    ds = ds.expand_dims('niter', axis=0)\n",
    "    ds.coords['niter'] = ('niter', [niter])\n",
    "\n",
    "    return ds\n",
    "    "
   ]
  },
  {
   "cell_type": "code",
   "execution_count": 121,
   "metadata": {},
   "outputs": [
    {
     "name": "stdout",
     "output_type": "stream",
     "text": [
      "CPU times: user 22.9 s, sys: 5.18 s, total: 28.1 s\n",
      "Wall time: 9.35 s\n"
     ]
    },
    {
     "data": {
      "text/html": [
       "<pre>&lt;xarray.Dataset&gt;\n",
       "Dimensions:  (niter: 1, npart: 2332800)\n",
       "Coordinates:\n",
       "  * npart    (npart) int64 1 2 3 4 5 6 ... 374576 374577 374578 374579 374580\n",
       "  * niter    (niter) int64 0\n",
       "Data variables:\n",
       "    x        (niter, npart) float64 dask.array&lt;chunksize=(1, 2332800), meta=np.ndarray&gt;\n",
       "    y        (niter, npart) float64 dask.array&lt;chunksize=(1, 2332800), meta=np.ndarray&gt;\n",
       "    z        (niter, npart) float64 dask.array&lt;chunksize=(1, 2332800), meta=np.ndarray&gt;\n",
       "    u        (niter, npart) float64 dask.array&lt;chunksize=(1, 2332800), meta=np.ndarray&gt;\n",
       "    v        (niter, npart) float64 dask.array&lt;chunksize=(1, 2332800), meta=np.ndarray&gt;\n",
       "    t        (niter, npart) float64 dask.array&lt;chunksize=(1, 2332800), meta=np.ndarray&gt;\n",
       "    s        (niter, npart) float64 dask.array&lt;chunksize=(1, 2332800), meta=np.ndarray&gt;\n",
       "    eta      (niter, npart) float64 dask.array&lt;chunksize=(1, 2332800), meta=np.ndarray&gt;</pre>"
      ],
      "text/plain": [
       "<xarray.Dataset>\n",
       "Dimensions:  (niter: 1, npart: 2332800)\n",
       "Coordinates:\n",
       "  * npart    (npart) int64 1 2 3 4 5 6 ... 374576 374577 374578 374579 374580\n",
       "  * niter    (niter) int64 0\n",
       "Data variables:\n",
       "    x        (niter, npart) float64 dask.array<chunksize=(1, 2332800), meta=np.ndarray>\n",
       "    y        (niter, npart) float64 dask.array<chunksize=(1, 2332800), meta=np.ndarray>\n",
       "    z        (niter, npart) float64 dask.array<chunksize=(1, 2332800), meta=np.ndarray>\n",
       "    u        (niter, npart) float64 dask.array<chunksize=(1, 2332800), meta=np.ndarray>\n",
       "    v        (niter, npart) float64 dask.array<chunksize=(1, 2332800), meta=np.ndarray>\n",
       "    t        (niter, npart) float64 dask.array<chunksize=(1, 2332800), meta=np.ndarray>\n",
       "    s        (niter, npart) float64 dask.array<chunksize=(1, 2332800), meta=np.ndarray>\n",
       "    eta      (niter, npart) float64 dask.array<chunksize=(1, 2332800), meta=np.ndarray>"
      ]
     },
     "execution_count": 121,
     "metadata": {},
     "output_type": "execute_result"
    }
   ],
   "source": [
    "%time dsl = timestep_to_ds_lazy(ddir, niter_unique[0])\n",
    "dsl"
   ]
  },
  {
   "cell_type": "code",
   "execution_count": 122,
   "metadata": {},
   "outputs": [
    {
     "name": "stdout",
     "output_type": "stream",
     "text": [
      "CPU times: user 10.9 s, sys: 1.73 s, total: 12.6 s\n",
      "Wall time: 3.9 s\n"
     ]
    },
    {
     "data": {
      "text/html": [
       "<pre>&lt;xarray.Dataset&gt;\n",
       "Dimensions:  (niter: 1, npart: 2332800)\n",
       "Coordinates:\n",
       "  * npart    (npart) int64 1 2 3 4 5 6 ... 374576 374577 374578 374579 374580\n",
       "  * niter    (niter) int64 0\n",
       "Data variables:\n",
       "    x        (niter, npart) float64 -15.49 -15.47 -15.45 ... 29.45 29.47 29.49\n",
       "    y        (niter, npart) float64 -57.0 -57.0 -57.0 ... -28.19 -28.19 -28.19\n",
       "    z        (niter, npart) float64 -2.79 -2.79 -2.79 ... -2.79 -2.79 -2.79\n",
       "    u        (niter, npart) float64 -0.08921 -0.1026 -0.1067 ... -999.0 -999.0\n",
       "    v        (niter, npart) float64 0.01095 0.0007958 0.006056 ... -999.0 -999.0\n",
       "    t        (niter, npart) float64 -0.9839 -0.9785 -0.9763 ... -999.0 -999.0\n",
       "    s        (niter, npart) float64 33.86 33.86 33.86 ... -999.0 -999.0 -999.0\n",
       "    eta      (niter, npart) float64 -1.215 -1.215 -1.214 ... -999.0 -999.0</pre>"
      ],
      "text/plain": [
       "<xarray.Dataset>\n",
       "Dimensions:  (niter: 1, npart: 2332800)\n",
       "Coordinates:\n",
       "  * npart    (npart) int64 1 2 3 4 5 6 ... 374576 374577 374578 374579 374580\n",
       "  * niter    (niter) int64 0\n",
       "Data variables:\n",
       "    x        (niter, npart) float64 -15.49 -15.47 -15.45 ... 29.45 29.47 29.49\n",
       "    y        (niter, npart) float64 -57.0 -57.0 -57.0 ... -28.19 -28.19 -28.19\n",
       "    z        (niter, npart) float64 -2.79 -2.79 -2.79 ... -2.79 -2.79 -2.79\n",
       "    u        (niter, npart) float64 -0.08921 -0.1026 -0.1067 ... -999.0 -999.0\n",
       "    v        (niter, npart) float64 0.01095 0.0007958 0.006056 ... -999.0 -999.0\n",
       "    t        (niter, npart) float64 -0.9839 -0.9785 -0.9763 ... -999.0 -999.0\n",
       "    s        (niter, npart) float64 33.86 33.86 33.86 ... -999.0 -999.0 -999.0\n",
       "    eta      (niter, npart) float64 -1.215 -1.215 -1.214 ... -999.0 -999.0"
      ]
     },
     "execution_count": 122,
     "metadata": {},
     "output_type": "execute_result"
    }
   ],
   "source": [
    "%time dse = timestep_to_ds_eager(ddir, niter_unique[0])\n",
    "dse"
   ]
  },
  {
   "cell_type": "markdown",
   "metadata": {},
   "source": [
    "**Result**: The eager version was 2-3x faster.\n",
    "I think this must be because there is so little data and the filesystem is slow."
   ]
  },
  {
   "cell_type": "markdown",
   "metadata": {},
   "source": [
    "### Questions about the data"
   ]
  },
  {
   "cell_type": "markdown",
   "metadata": {},
   "source": [
    "Why is `max(npart)` not equal to 2332800?"
   ]
  },
  {
   "cell_type": "code",
   "execution_count": 116,
   "metadata": {},
   "outputs": [
    {
     "data": {
      "text/html": [
       "<pre>&lt;xarray.DataArray &#x27;npart&#x27; ()&gt;\n",
       "array(374580)</pre>"
      ],
      "text/plain": [
       "<xarray.DataArray 'npart' ()>\n",
       "array(374580)"
      ]
     },
     "execution_count": 116,
     "metadata": {},
     "output_type": "execute_result"
    }
   ],
   "source": [
    "dse.npart.max()"
   ]
  },
  {
   "cell_type": "markdown",
   "metadata": {},
   "source": [
    "Why is 2332800 not equal to `Nx * Ny`?"
   ]
  },
  {
   "cell_type": "code",
   "execution_count": 105,
   "metadata": {},
   "outputs": [
    {
     "data": {
      "text/plain": [
       "4665600"
      ]
     },
     "execution_count": 105,
     "metadata": {},
     "output_type": "execute_result"
    }
   ],
   "source": [
    "nx = 180 * 12\n",
    "ny = 180 * 12\n",
    "nx * ny"
   ]
  },
  {
   "cell_type": "markdown",
   "metadata": {},
   "source": [
    "## Test Writing\n",
    "\n",
    "Which datasets writes to zarr faster?"
   ]
  },
  {
   "cell_type": "code",
   "execution_count": 120,
   "metadata": {},
   "outputs": [],
   "source": [
    "target = '/rigel/ocp/projects/swot/agulhas/run_1week_fwd.zarr'"
   ]
  },
  {
   "cell_type": "code",
   "execution_count": 123,
   "metadata": {},
   "outputs": [
    {
     "name": "stdout",
     "output_type": "stream",
     "text": [
      "CPU times: user 11.8 s, sys: 2.64 s, total: 14.5 s\n",
      "Wall time: 4.97 s\n"
     ]
    },
    {
     "data": {
      "text/plain": [
       "<xarray.backends.zarr.ZarrStore at 0x2aacd08db530>"
      ]
     },
     "execution_count": 123,
     "metadata": {},
     "output_type": "execute_result"
    }
   ],
   "source": [
    "%time dsl.to_zarr(target, mode='w')"
   ]
  },
  {
   "cell_type": "code",
   "execution_count": null,
   "metadata": {},
   "outputs": [],
   "source": [
    "shutil.rmtree(target)"
   ]
  },
  {
   "cell_type": "code",
   "execution_count": 125,
   "metadata": {},
   "outputs": [
    {
     "name": "stdout",
     "output_type": "stream",
     "text": [
      "CPU times: user 500 ms, sys: 84.9 ms, total: 585 ms\n",
      "Wall time: 375 ms\n"
     ]
    },
    {
     "data": {
      "text/plain": [
       "<xarray.backends.zarr.ZarrStore at 0x2aacd081d410>"
      ]
     },
     "execution_count": 125,
     "metadata": {},
     "output_type": "execute_result"
    }
   ],
   "source": [
    "%time dse.chunk().to_zarr(target, mode='w')"
   ]
  },
  {
   "cell_type": "markdown",
   "metadata": {},
   "source": [
    "**Result:**: Writing the eagerly loaded data to zarr is obviously much faster because it is already in memory! \n",
    "\n",
    "That wasn't really fair. What if we do 10 timesteps in serial?"
   ]
  },
  {
   "cell_type": "code",
   "execution_count": 128,
   "metadata": {},
   "outputs": [],
   "source": [
    "shutil.rmtree(target)"
   ]
  },
  {
   "cell_type": "code",
   "execution_count": 130,
   "metadata": {},
   "outputs": [
    {
     "name": "stdout",
     "output_type": "stream",
     "text": [
      "CPU times: user 1min 50s, sys: 17.4 s, total: 2min 8s\n",
      "Wall time: 52.5 s\n"
     ]
    }
   ],
   "source": [
    "%%time \n",
    "for n in niter_unique[:10]:\n",
    "    ds = timestep_to_ds_eager(ddir, n)\n",
    "    ds.chunk().to_zarr(target, append_dim='niter')"
   ]
  },
  {
   "cell_type": "code",
   "execution_count": 135,
   "metadata": {},
   "outputs": [],
   "source": [
    "shutil.rmtree(target)"
   ]
  },
  {
   "cell_type": "markdown",
   "metadata": {},
   "source": [
    "Compare this to preparing a lazy version of the array in advance."
   ]
  },
  {
   "cell_type": "code",
   "execution_count": 133,
   "metadata": {},
   "outputs": [
    {
     "name": "stdout",
     "output_type": "stream",
     "text": [
      "CPU times: user 3min 52s, sys: 41.6 s, total: 4min 34s\n",
      "Wall time: 1min 37s\n"
     ]
    },
    {
     "data": {
      "text/html": [
       "<pre>&lt;xarray.Dataset&gt;\n",
       "Dimensions:  (niter: 10, npart: 2332800)\n",
       "Coordinates:\n",
       "  * npart    (npart) int64 1 2 3 4 5 6 ... 374576 374577 374578 374579 374580\n",
       "  * niter    (niter) int64 0 144 288 432 576 720 864 1008 1152 1296\n",
       "Data variables:\n",
       "    x        (niter, npart) float64 dask.array&lt;chunksize=(1, 2332800), meta=np.ndarray&gt;\n",
       "    y        (niter, npart) float64 dask.array&lt;chunksize=(1, 2332800), meta=np.ndarray&gt;\n",
       "    z        (niter, npart) float64 dask.array&lt;chunksize=(1, 2332800), meta=np.ndarray&gt;\n",
       "    u        (niter, npart) float64 dask.array&lt;chunksize=(1, 2332800), meta=np.ndarray&gt;\n",
       "    v        (niter, npart) float64 dask.array&lt;chunksize=(1, 2332800), meta=np.ndarray&gt;\n",
       "    t        (niter, npart) float64 dask.array&lt;chunksize=(1, 2332800), meta=np.ndarray&gt;\n",
       "    s        (niter, npart) float64 dask.array&lt;chunksize=(1, 2332800), meta=np.ndarray&gt;\n",
       "    eta      (niter, npart) float64 dask.array&lt;chunksize=(1, 2332800), meta=np.ndarray&gt;</pre>"
      ],
      "text/plain": [
       "<xarray.Dataset>\n",
       "Dimensions:  (niter: 10, npart: 2332800)\n",
       "Coordinates:\n",
       "  * npart    (npart) int64 1 2 3 4 5 6 ... 374576 374577 374578 374579 374580\n",
       "  * niter    (niter) int64 0 144 288 432 576 720 864 1008 1152 1296\n",
       "Data variables:\n",
       "    x        (niter, npart) float64 dask.array<chunksize=(1, 2332800), meta=np.ndarray>\n",
       "    y        (niter, npart) float64 dask.array<chunksize=(1, 2332800), meta=np.ndarray>\n",
       "    z        (niter, npart) float64 dask.array<chunksize=(1, 2332800), meta=np.ndarray>\n",
       "    u        (niter, npart) float64 dask.array<chunksize=(1, 2332800), meta=np.ndarray>\n",
       "    v        (niter, npart) float64 dask.array<chunksize=(1, 2332800), meta=np.ndarray>\n",
       "    t        (niter, npart) float64 dask.array<chunksize=(1, 2332800), meta=np.ndarray>\n",
       "    s        (niter, npart) float64 dask.array<chunksize=(1, 2332800), meta=np.ndarray>\n",
       "    eta      (niter, npart) float64 dask.array<chunksize=(1, 2332800), meta=np.ndarray>"
      ]
     },
     "execution_count": 133,
     "metadata": {},
     "output_type": "execute_result"
    }
   ],
   "source": [
    "%%time\n",
    "dsets = [timestep_to_ds_lazy(ddir, n) for n in niter_unique[:10]]\n",
    "ds_all = xr.concat(dsets, dim='niter')\n",
    "ds_all"
   ]
  },
  {
   "cell_type": "code",
   "execution_count": 136,
   "metadata": {},
   "outputs": [
    {
     "name": "stdout",
     "output_type": "stream",
     "text": [
      "CPU times: user 2min 2s, sys: 22.6 s, total: 2min 24s\n",
      "Wall time: 45.8 s\n"
     ]
    },
    {
     "data": {
      "text/plain": [
       "<xarray.backends.zarr.ZarrStore at 0x2aacd1550470>"
      ]
     },
     "execution_count": 136,
     "metadata": {},
     "output_type": "execute_result"
    }
   ],
   "source": [
    "%%time\n",
    "ds_all.to_zarr(target)"
   ]
  },
  {
   "cell_type": "markdown",
   "metadata": {},
   "source": [
    "So the eager, serial approach took 52s, while the lazy approach took nearly over 2 minutes.\n",
    "\n",
    "**Conclusion:** on habanero, there is no benefit to trying to paralleize this with dask.\n",
    "I believe this is mostly a consequence of using CSV, which doesn't allow us to easily extact individual columns one at a time.\n",
    "We end up reading the files over and over. This is inefficient."
   ]
  },
  {
   "cell_type": "code",
   "execution_count": null,
   "metadata": {},
   "outputs": [],
   "source": []
  }
 ],
 "metadata": {
  "kernelspec": {
   "display_name": "pangeo2020",
   "language": "python",
   "name": "pangeo2020"
  },
  "language_info": {
   "codemirror_mode": {
    "name": "ipython",
    "version": 3
   },
   "file_extension": ".py",
   "mimetype": "text/x-python",
   "name": "python",
   "nbconvert_exporter": "python",
   "pygments_lexer": "ipython3",
   "version": "3.7.6"
  }
 },
 "nbformat": 4,
 "nbformat_minor": 4
}
