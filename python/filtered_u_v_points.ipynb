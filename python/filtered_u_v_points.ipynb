{
 "cells": [
  {
   "cell_type": "code",
   "execution_count": 1,
   "metadata": {},
   "outputs": [],
   "source": [
    "import xarray as xr\n",
    "import numpy as np\n",
    "from glob import glob\n",
    "from xgcm.grid import Grid"
   ]
  },
  {
   "cell_type": "code",
   "execution_count": 2,
   "metadata": {},
   "outputs": [],
   "source": [
    "RC =np.fromfile('/swot/SUM01/spencer/swot_agulhas_test/RC.data', dtype='>f4')\n",
    "RAC =np.fromfile('/swot/SUM01/spencer/swot_agulhas_test/RAC.data', dtype='>f4')\n",
    "RF =np.fromfile('/swot/SUM01/spencer/swot_agulhas_test/RF.data', dtype='>f4')\n",
    "DRC =np.fromfile('/swot/SUM01/spencer/swot_agulhas_test/DRC.data', dtype='>f4')\n",
    "DXG =np.fromfile('/swot/SUM01/spencer/swot_agulhas_test/DXG.data', dtype='>f4')\n",
    "DYG =np.fromfile('/swot/SUM01/spencer/swot_agulhas_test/DYG.data', dtype='>f4')\n",
    "DRF =np.fromfile('/swot/SUM01/spencer/swot_agulhas_test/DRF.data', dtype='>f4')\n",
    "hFacC =np.fromfile('/swot/SUM01/spencer/swot_agulhas_test/hFacC.data', dtype='>f4')\n",
    "hFacW =np.fromfile('/swot/SUM01/spencer/swot_agulhas_test/hFacW.data', dtype='>f4')\n",
    "hFacS =np.fromfile('/swot/SUM01/spencer/swot_agulhas_test/hFacS.data', dtype='>f4')"
   ]
  },
  {
   "cell_type": "code",
   "execution_count": 3,
   "metadata": {},
   "outputs": [
    {
     "data": {
      "text/plain": [
       "<matplotlib.contour.QuadContourSet at 0x7feaee2f2ed0>"
      ]
     },
     "execution_count": 3,
     "metadata": {},
     "output_type": "execute_result"
    },
    {
     "data": {
      "image/png": "[encoded data removed]",
      "text/plain": [
       "<Figure size 432x288 with 1 Axes>"
      ]
     },
     "metadata": {
      "needs_background": "light"
     },
     "output_type": "display_data"
    }
   ],
   "source": [
    "import matplotlib.pyplot as plt\n",
    "plt.contourf(hFacW.reshape(90,2160,2160)[0,:,:])"
   ]
  },
  {
   "cell_type": "code",
   "execution_count": 4,
   "metadata": {},
   "outputs": [],
   "source": [
    "# Load Eulerian data\n",
    "uvel_merged = xr.open_zarr('/swot/SUM01/spencer/swot_agulhas_surf/uvel.zarr')\n",
    "vvel_merged = xr.open_zarr('/swot/SUM01/spencer/swot_agulhas_surf/vvel.zarr')\n",
    "\n",
    "uvel_merged = uvel_merged.isel(time=slice(1,110)).isel(k=0)\n",
    "\n",
    "vvel_merged = vvel_merged.isel(time=slice(1,110)).isel(k=0)\n",
    "\n",
    "uvel_merged = uvel_merged.drop_vars('time')\n",
    "vvel_merged = vvel_merged.drop_vars('time')"
   ]
  },
  {
   "cell_type": "code",
   "execution_count": 5,
   "metadata": {},
   "outputs": [],
   "source": [
    "def lanczos(x, a):\n",
    "    return np.sinc(x/a)\n",
    "window_width=20\n",
    "weight = xr.DataArray(lanczos(np.arange(-window_width/2,window_width/2), window_width/2), dims=['window'])"
   ]
  },
  {
   "cell_type": "code",
   "execution_count": 6,
   "metadata": {},
   "outputs": [],
   "source": [
    "nofiles=49\n",
    "u_eul_filtered = uvel_merged.U.chunk({'time':-1}).rolling(time=window_width, center=True).construct('window').dot(weight)/np.sum(weight)\n",
    "v_eul_filtered = vvel_merged.V.chunk({'time':-1}).rolling(time=window_width, center=True).construct('window').dot(weight)/np.sum(weight)\n",
    "u_eul_filtered = u_eul_filtered.sel(time=slice(42,42+nofiles)).assign_coords({'time':np.arange(0,nofiles)*3600})\n",
    "v_eul_filtered = v_eul_filtered.sel(time=slice(42,42+nofiles)).assign_coords({'time':np.arange(0,nofiles)*3600})"
   ]
  },
  {
   "cell_type": "code",
   "execution_count": 7,
   "metadata": {},
   "outputs": [
    {
     "data": {
      "text/plain": [
       "<xarray.backends.zarr.ZarrStore at 0x7fec1e9019f0>"
      ]
     },
     "execution_count": 7,
     "metadata": {},
     "output_type": "execute_result"
    }
   ],
   "source": [
    "eul_filtered_vels = u_eul_filtered.to_dataset(name='u')\n",
    "eul_filtered_vels['v'] = v_eul_filtered\n",
    "eul_filtered_vels = eul_filtered_vels.assign_coords({\"hFacC\":([\"j\",\"i\"],hFacC.reshape(90,2160,2160)[0,:,:])})\n",
    "eul_filtered_vels = eul_filtered_vels.assign_coords({\"hFacW\":([\"j\",\"i_g\"],hFacW.reshape(90,2160,2160)[0,:,:])})\n",
    "eul_filtered_vels = eul_filtered_vels.assign_coords({\"hFacS\":([\"j_g\",\"i\"],hFacS.reshape(90,2160,2160)[0,:,:])})\n",
    "eul_filtered_vels = eul_filtered_vels.assign_coords({\"dxG\":([\"j_g\",\"i\"],DXG.reshape(2160,2160))})\n",
    "eul_filtered_vels = eul_filtered_vels.assign_coords({\"dyG\":([\"j\",\"i_g\"],DYG.reshape(2160,2160))})\n",
    "eul_filtered_vels = eul_filtered_vels.assign_coords({\"raC\":([\"j\",\"i\"],RAC.reshape(2160,2160))})\n",
    "eul_filtered_vels = eul_filtered_vels.assign_coords(drF = DRF[0])\n",
    "eul_filtered_vels.time.attrs['units']='time in seconds'\n",
    "eul_filtered_vels.u.attrs['units']='m/s'\n",
    "eul_filtered_vels.v.attrs['units']='m/s'\n",
    "eul_filtered_vels.chunk({'i':180,'j_g':180,'j':180,'i_g':180}).to_zarr('/swot/SUM03/spencer/agulhas_vels/eul_filtered_vels.zarr')"
   ]
  },
  {
   "cell_type": "code",
   "execution_count": 9,
   "metadata": {},
   "outputs": [],
   "source": [
    "grid = Grid(eul_filtered_vels,coords={'X': {'center': 'i', 'left': 'i_g'},'Y': {'center': 'j', 'left': 'j_g'}})"
   ]
  },
  {
   "cell_type": "code",
   "execution_count": 10,
   "metadata": {},
   "outputs": [
    {
     "name": "stdout",
     "output_type": "stream",
     "text": [
      "/swot/SUM01/spencer/36hr_timeseries/rechunked_6048.zarr\n",
      "/swot/SUM01/spencer/36hr_timeseries/rechunked_6192.zarr\n",
      "/swot/SUM01/spencer/36hr_timeseries/rechunked_6336.zarr\n",
      "/swot/SUM01/spencer/36hr_timeseries/rechunked_6480.zarr\n",
      "/swot/SUM01/spencer/36hr_timeseries/rechunked_6624.zarr\n",
      "/swot/SUM01/spencer/36hr_timeseries/rechunked_6768.zarr\n",
      "/swot/SUM01/spencer/36hr_timeseries/rechunked_6912.zarr\n",
      "/swot/SUM01/spencer/36hr_timeseries/rechunked_7056.zarr\n",
      "/swot/SUM01/spencer/36hr_timeseries/rechunked_7200.zarr\n",
      "/swot/SUM01/spencer/36hr_timeseries/rechunked_7344.zarr\n",
      "/swot/SUM01/spencer/36hr_timeseries/rechunked_7488.zarr\n",
      "/swot/SUM01/spencer/36hr_timeseries/rechunked_7632.zarr\n",
      "/swot/SUM01/spencer/36hr_timeseries/rechunked_7776.zarr\n",
      "/swot/SUM01/spencer/36hr_timeseries/rechunked_7920.zarr\n",
      "/swot/SUM01/spencer/36hr_timeseries/rechunked_8064.zarr\n",
      "/swot/SUM01/spencer/36hr_timeseries/rechunked_8208.zarr\n",
      "/swot/SUM01/spencer/36hr_timeseries/rechunked_8352.zarr\n",
      "/swot/SUM01/spencer/36hr_timeseries/rechunked_8496.zarr\n",
      "/swot/SUM01/spencer/36hr_timeseries/rechunked_8640.zarr\n",
      "/swot/SUM01/spencer/36hr_timeseries/rechunked_8784.zarr\n",
      "/swot/SUM01/spencer/36hr_timeseries/rechunked_8928.zarr\n",
      "/swot/SUM01/spencer/36hr_timeseries/rechunked_9072.zarr\n",
      "/swot/SUM01/spencer/36hr_timeseries/rechunked_9216.zarr\n",
      "/swot/SUM01/spencer/36hr_timeseries/rechunked_9360.zarr\n",
      "/swot/SUM01/spencer/36hr_timeseries/rechunked_9504.zarr\n",
      "/swot/SUM01/spencer/36hr_timeseries/rechunked_9648.zarr\n",
      "/swot/SUM01/spencer/36hr_timeseries/rechunked_9792.zarr\n",
      "/swot/SUM01/spencer/36hr_timeseries/rechunked_9936.zarr\n",
      "/swot/SUM01/spencer/36hr_timeseries/rechunked_10080.zarr\n",
      "/swot/SUM01/spencer/36hr_timeseries/rechunked_10224.zarr\n",
      "/swot/SUM01/spencer/36hr_timeseries/rechunked_10368.zarr\n",
      "/swot/SUM01/spencer/36hr_timeseries/rechunked_10512.zarr\n",
      "/swot/SUM01/spencer/36hr_timeseries/rechunked_10656.zarr\n",
      "/swot/SUM01/spencer/36hr_timeseries/rechunked_10800.zarr\n",
      "/swot/SUM01/spencer/36hr_timeseries/rechunked_10944.zarr\n",
      "/swot/SUM01/spencer/36hr_timeseries/rechunked_11088.zarr\n",
      "/swot/SUM01/spencer/36hr_timeseries/rechunked_11232.zarr\n",
      "/swot/SUM01/spencer/36hr_timeseries/rechunked_11376.zarr\n",
      "/swot/SUM01/spencer/36hr_timeseries/rechunked_11520.zarr\n",
      "/swot/SUM01/spencer/36hr_timeseries/rechunked_11664.zarr\n",
      "/swot/SUM01/spencer/36hr_timeseries/rechunked_11808.zarr\n",
      "/swot/SUM01/spencer/36hr_timeseries/rechunked_11952.zarr\n",
      "/swot/SUM01/spencer/36hr_timeseries/rechunked_12096.zarr\n",
      "/swot/SUM01/spencer/36hr_timeseries/rechunked_12240.zarr\n",
      "/swot/SUM01/spencer/36hr_timeseries/rechunked_12384.zarr\n",
      "/swot/SUM01/spencer/36hr_timeseries/rechunked_12528.zarr\n",
      "/swot/SUM01/spencer/36hr_timeseries/rechunked_12672.zarr\n",
      "/swot/SUM01/spencer/36hr_timeseries/rechunked_12816.zarr\n",
      "/swot/SUM01/spencer/36hr_timeseries/rechunked_12960.zarr\n"
     ]
    }
   ],
   "source": [
    "fnames = sorted(glob(f'/swot/SUM01/spencer/36hr_timeseries/*.zarr'))\n",
    "nofiles = len(fnames)\n",
    "for fileno in range(0,49):#nofiles\n",
    "        print('/swot/SUM01/spencer/36hr_timeseries/rechunked_' + str(6048+fileno*144) +'.zarr')\n",
    "        ds = xr.open_zarr('/swot/SUM01/spencer/36hr_timeseries/rechunked_' + str(6048+fileno*144) +'.zarr')\n",
    "        ds = ds.isel(niter=slice(1,74))\n",
    "        ds['time'] = ds['niter']*3600/144\n",
    "        ds = ds.assign_coords({\"time\": ds.time})\n",
    "        ds = ds.swap_dims({\"niter\": \"time\"})\n",
    "        ds = ds.where(ds.u!=-999)\n",
    "        window_width=20\n",
    "        weight = xr.DataArray(lanczos(np.arange(-window_width/2,window_width/2), window_width/2), dims=['window'])\n",
    "        windowed_u = ds.u.rolling(time=window_width, center=True).construct('window').dot(weight)/np.sum(weight)\n",
    "        windowed_v = ds.v.rolling(time=window_width, center=True).construct('window').dot(weight)/np.sum(weight)\n",
    "        u_piece = windowed_u.sel(time=0).isel(z0=3)\n",
    "        v_piece = windowed_v.sel(time=0).isel(z0=3)\n",
    "        u_piece2 = ds.u.sel(time=0).isel(z0=3)\n",
    "        v_piece2 = ds.v.sel(time=0).isel(z0=3)\n",
    "        u_piece[\"time\"] = fileno*3600\n",
    "        v_piece[\"time\"] = fileno*3600\n",
    "        u_piece2[\"time\"] = fileno*3600\n",
    "        v_piece2[\"time\"] = fileno*3600\n",
    "        if fileno==0:\n",
    "            u_filtered = u_piece\n",
    "            v_filtered = v_piece\n",
    "            u_unfiltered = u_piece2\n",
    "            v_unfiltered = v_piece2\n",
    "        else:\n",
    "            u_filtered = xr.concat([u_filtered,u_piece],dim='time')\n",
    "            v_filtered = xr.concat([v_filtered,v_piece],dim='time')\n",
    "            u_unfiltered = xr.concat([u_unfiltered,u_piece2],dim='time')\n",
    "            v_unfiltered = xr.concat([v_unfiltered,v_piece2],dim='time')"
   ]
  },
  {
   "cell_type": "code",
   "execution_count": 11,
   "metadata": {},
   "outputs": [],
   "source": [
    "unfiltered_vels = u_unfiltered.to_dataset(name='u')\n",
    "unfiltered_vels['v'] = v_unfiltered\n",
    "unfiltered_vels.time.attrs['units']='time in seconds'\n",
    "unfiltered_vels.u.attrs['units']='m/s'\n",
    "unfiltered_vels.v.attrs['units']='m/s'\n",
    "unfiltered_vels.y0.attrs['long_name']='latitude'\n",
    "unfiltered_vels.x0.attrs['units']='longitude'\n",
    "unfiltered_vels = unfiltered_vels.rename_dims({\"x0\":\"i\"})\n",
    "unfiltered_vels = unfiltered_vels.rename_dims({\"y0\":\"j\"})"
   ]
  },
  {
   "cell_type": "code",
   "execution_count": 12,
   "metadata": {},
   "outputs": [],
   "source": [
    "unf_u_points = grid.interp(unfiltered_vels.u,'X')\n",
    "unf_v_points = grid.interp(unfiltered_vels.v,'Y')"
   ]
  },
  {
   "cell_type": "code",
   "execution_count": 13,
   "metadata": {},
   "outputs": [
    {
     "data": {
      "text/plain": [
       "<xarray.backends.zarr.ZarrStore at 0x7f5aa5a09c20>"
      ]
     },
     "execution_count": 13,
     "metadata": {},
     "output_type": "execute_result"
    }
   ],
   "source": [
    "unfiltered_vels2 = unf_u_points.to_dataset(name='u')\n",
    "unfiltered_vels2['v'] = unf_v_points\n",
    "unfiltered_vels2.time.attrs['units']='time in seconds'\n",
    "unfiltered_vels2.u.attrs['units']='m/s'\n",
    "unfiltered_vels2.v.attrs['units']='m/s'\n",
    "unfiltered_vels2.chunk({'i':180,'j_g':180,'j':180,'i_g':180}).to_zarr('/swot/SUM03/spencer/agulhas_vels/unfiltered_vels.zarr')"
   ]
  },
  {
   "cell_type": "code",
   "execution_count": 14,
   "metadata": {},
   "outputs": [],
   "source": [
    "filtered_vels = u_filtered.to_dataset(name='u')\n",
    "filtered_vels['v'] = v_filtered\n",
    "filtered_vels.time.attrs['units']='time in seconds'\n",
    "filtered_vels.u.attrs['units']='m/s'\n",
    "filtered_vels.v.attrs['units']='m/s'\n",
    "filtered_vels.y0.attrs['long_name']='latitude'\n",
    "filtered_vels.x0.attrs['units']='longitude'\n",
    "filtered_vels = filtered_vels.rename_dims({\"x0\":\"i\"})\n",
    "filtered_vels = filtered_vels.rename_dims({\"y0\":\"j\"})\n"
   ]
  },
  {
   "cell_type": "code",
   "execution_count": 15,
   "metadata": {},
   "outputs": [],
   "source": [
    "filt_u_points = grid.interp(filtered_vels.u,'X')\n",
    "filt_v_points = grid.interp(filtered_vels.v,'Y')"
   ]
  },
  {
   "cell_type": "code",
   "execution_count": 16,
   "metadata": {},
   "outputs": [
    {
     "data": {
      "text/plain": [
       "<xarray.backends.zarr.ZarrStore at 0x7f5a90811600>"
      ]
     },
     "execution_count": 16,
     "metadata": {},
     "output_type": "execute_result"
    }
   ],
   "source": [
    "filtered_vels2 = filt_u_points.to_dataset(name='u')\n",
    "filtered_vels2['v'] = filt_v_points\n",
    "filtered_vels2.time.attrs['units']='time in seconds'\n",
    "filtered_vels2.u.attrs['units']='m/s'\n",
    "filtered_vels2.v.attrs['units']='m/s'\n",
    "filtered_vels2.chunk({'i':180,'j_g':180,'j':180,'i_g':180}).to_zarr('/swot/SUM03/spencer/agulhas_vels/filtered_vels.zarr')"
   ]
  },
  {
   "cell_type": "code",
   "execution_count": 8,
   "metadata": {},
   "outputs": [
    {
     "ename": "NameError",
     "evalue": "name 'filt_u_points' is not defined",
     "output_type": "error",
     "traceback": [
      "\u001b[0;31m---------------------------------------------------------------------------\u001b[0m",
      "\u001b[0;31mNameError\u001b[0m                                 Traceback (most recent call last)",
      "\u001b[0;32m<ipython-input-8-bd396505f78c>\u001b[0m in \u001b[0;36m<module>\u001b[0;34m\u001b[0m\n\u001b[0;32m----> 1\u001b[0;31m \u001b[0mfilt_u_points\u001b[0m\u001b[0;34m\u001b[0m\u001b[0;34m\u001b[0m\u001b[0m\n\u001b[0m",
      "\u001b[0;31mNameError\u001b[0m: name 'filt_u_points' is not defined"
     ]
    }
   ],
   "source": [
    "filt_u_points"
   ]
  },
  {
   "cell_type": "code",
   "execution_count": null,
   "metadata": {},
   "outputs": [],
   "source": []
  }
 ],
 "metadata": {
  "kernelspec": {
   "display_name": "Python [conda env:pangeo2]",
   "language": "python",
   "name": "conda-env-pangeo2-py"
  },
  "language_info": {
   "codemirror_mode": {
    "name": "ipython",
    "version": 3
   },
   "file_extension": ".py",
   "mimetype": "text/x-python",
   "name": "python",
   "nbconvert_exporter": "python",
   "pygments_lexer": "ipython3",
   "version": "3.7.9"
  }
 },
 "nbformat": 4,
 "nbformat_minor": 2
}
