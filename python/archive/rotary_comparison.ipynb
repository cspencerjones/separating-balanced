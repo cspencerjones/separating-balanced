{
 "cells": [
  {
   "cell_type": "code",
   "execution_count": 1,
   "metadata": {},
   "outputs": [],
   "source": [
    "import xarray as xr\n",
    "import numpy as np\n",
    "import xrft\n",
    "from xgcm.grid import Grid\n",
    "from dask.diagnostics import ProgressBar\n",
    "from matplotlib import pyplot as plt\n",
    "#from xhistogram.xarray import histogram\n",
    "import matplotlib.pyplot as plt\n",
    "plt.rcParams.update({'font.size': 14})"
   ]
  },
  {
   "cell_type": "code",
   "execution_count": 2,
   "metadata": {},
   "outputs": [],
   "source": [
    "uvel_merged = xr.open_zarr('/swot/SUM01/spencer/swot_agulhas_surf/uvel.zarr')\n",
    "vvel_merged = xr.open_zarr('/swot/SUM01/spencer/swot_agulhas_surf/vvel.zarr')\n",
    "\n",
    "uvel_merged = uvel_merged.isel(time=slice(41,378)).isel(k=0)\n",
    "\n",
    "vvel_merged = vvel_merged.isel(time=slice(41,378)).isel(k=0)\n",
    "\n",
    "uvel_merged['time'] = uvel_merged['time']/ np.timedelta64(1, 's')\n",
    "vvel_merged['time'] = vvel_merged['time']/ np.timedelta64(1, 's')\n",
    "grid = Grid(uvel_merged, coords={'X': {'center': 'i', 'left': 'i_g'}, 'Y': {'center': 'j', 'left': 'j_g'}})"
   ]
  },
  {
   "cell_type": "code",
   "execution_count": 3,
   "metadata": {},
   "outputs": [],
   "source": [
    "dt=168\n",
    "u1 = grid.interp(uvel_merged.U,'X').chunk({'time':-1}).isel(time=slice(168-dt,169+dt))\n",
    "v1 = grid.interp(vvel_merged.V,'Y',boundary='fill').chunk({'time':-1}).isel(time=slice(168-dt,169+dt))\n"
   ]
  },
  {
   "cell_type": "code",
   "execution_count": 10,
   "metadata": {},
   "outputs": [
    {
     "name": "stderr",
     "output_type": "stream",
     "text": [
      "/home/spencerj/.conda/envs/pangeo2/lib/python3.7/site-packages/xrft/xrft.py:51: FutureWarning: Please provide the name of window adhering to scipy.signal.windows. The boolean option will be deprecated in future releases.\n",
      "  FutureWarning,\n",
      "/home/spencerj/.conda/envs/pangeo2/lib/python3.7/site-packages/xrft/xrft.py:51: FutureWarning: Please provide the name of window adhering to scipy.signal.windows. The boolean option will be deprecated in future releases.\n",
      "  FutureWarning,\n"
     ]
    },
    {
     "name": "stdout",
     "output_type": "stream",
     "text": [
      "[########################################] | 100% Completed |  1min 13.5s\n"
     ]
    },
    {
     "name": "stderr",
     "output_type": "stream",
     "text": [
      "/home/spencerj/.conda/envs/pangeo2/lib/python3.7/site-packages/xrft/xrft.py:51: FutureWarning: Please provide the name of window adhering to scipy.signal.windows. The boolean option will be deprecated in future releases.\n",
      "  FutureWarning,\n",
      "/home/spencerj/.conda/envs/pangeo2/lib/python3.7/site-packages/xrft/xrft.py:51: FutureWarning: Please provide the name of window adhering to scipy.signal.windows. The boolean option will be deprecated in future releases.\n",
      "  FutureWarning,\n"
     ]
    },
    {
     "name": "stdout",
     "output_type": "stream",
     "text": [
      "[########################################] | 100% Completed |  1min 13.2s\n"
     ]
    }
   ],
   "source": [
    "with ProgressBar():\n",
    "    uhat2 = xrft.power_spectrum(u1,dim=['time'], window=True, window_correction=True).compute()#, detrend='linear'\n",
    "    vhat2 = xrft.power_spectrum(v1,dim=['time'], window=True, window_correction=True).compute()#, detrend='linear'\n",
    "u2plusv2_eul = (uhat2 + vhat2)"
   ]
  },
  {
   "cell_type": "code",
   "execution_count": 6,
   "metadata": {},
   "outputs": [
    {
     "name": "stderr",
     "output_type": "stream",
     "text": [
      "/home/spencerj/.conda/envs/pangeo2/lib/python3.7/site-packages/xrft/xrft.py:51: FutureWarning: Please provide the name of window adhering to scipy.signal.windows. The boolean option will be deprecated in future releases.\n",
      "  FutureWarning,\n",
      "/home/spencerj/.conda/envs/pangeo2/lib/python3.7/site-packages/xrft/xrft.py:51: FutureWarning: Please provide the name of window adhering to scipy.signal.windows. The boolean option will be deprecated in future releases.\n",
      "  FutureWarning,\n"
     ]
    },
    {
     "name": "stdout",
     "output_type": "stream",
     "text": [
      "[########################################] | 100% Completed |  2min  0.4s\n"
     ]
    }
   ],
   "source": [
    "z=u1+1j*v1\n",
    "with ProgressBar():\n",
    "    z2 = xrft.power_spectrum(z,dim=['time'], window=True, window_correction=True).compute()"
   ]
  },
  {
   "cell_type": "code",
   "execution_count": 11,
   "metadata": {},
   "outputs": [],
   "source": [
    "spec0 = int((u2plusv2_eul['freq_time'].size-1)/2)"
   ]
  },
  {
   "cell_type": "code",
   "execution_count": 19,
   "metadata": {},
   "outputs": [
    {
     "data": {
      "image/png": "[encoded data removed]",
      "text/plain": [
       "<Figure size 432x288 with 1 Axes>"
      ]
     },
     "metadata": {
      "needs_background": "light"
     },
     "output_type": "display_data"
    }
   ],
   "source": [
    "plt.plot(z2.freq_time[spec0:],(z2.mean(['i','j'])[spec0:].values+z2.mean(['i','j'])[spec0::-1].values)/2,label='spectrum of $(|z(\\omega)|^2 + |z(-\\omega)|^2)$/2')\n",
    "plt.plot(z2.freq_time[spec0:],u2plusv2_eul.mean(['i','j'])[spec0:].values,label='spectrum of $|\\hat{u}(\\omega)|^2+|\\hat{v}(\\omega)|^2$')\n",
    "plt.legend()\n",
    "plt.xscale('log')\n",
    "plt.yscale('log')\n",
    "plt.ylim(10**-1,10**5)\n",
    "plt.xlabel('frequency (cps)')\n",
    "plt.ylabel('Spectral density')\n",
    "plt.tight_layout()\n",
    "\n",
    "fig=plt.gcf()\n",
    "fig.savefig('rotary_v_uv.png')"
   ]
  },
  {
   "cell_type": "code",
   "execution_count": null,
   "metadata": {},
   "outputs": [],
   "source": []
  }
 ],
 "metadata": {
  "kernelspec": {
   "display_name": "Python [conda env:pangeo2]",
   "language": "python",
   "name": "conda-env-pangeo2-py"
  },
  "language_info": {
   "codemirror_mode": {
    "name": "ipython",
    "version": 3
   },
   "file_extension": ".py",
   "mimetype": "text/x-python",
   "name": "python",
   "nbconvert_exporter": "python",
   "pygments_lexer": "ipython3",
   "version": "3.7.9"
  }
 },
 "nbformat": 4,
 "nbformat_minor": 2
}
