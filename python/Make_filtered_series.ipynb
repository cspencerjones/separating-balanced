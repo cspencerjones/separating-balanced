{
 "cells": [
  {
   "cell_type": "code",
   "execution_count": 1,
   "id": "72b4d9a0",
   "metadata": {},
   "outputs": [
    {
     "data": {
      "text/html": [
       "<table style=\"border: 2px solid white;\">\n",
       "<tr>\n",
       "<td style=\"vertical-align: top; border: 0px solid white\">\n",
       "<h3 style=\"text-align: left;\">Client</h3>\n",
       "<ul style=\"text-align: left; list-style: none; margin: 0; padding: 0;\">\n",
       "  <li><b>Scheduler: </b>tcp://127.0.0.1:38069</li>\n",
       "  <li><b>Dashboard: </b><a href='http://127.0.0.1:8787/status' target='_blank'>http://127.0.0.1:8787/status</a></li>\n",
       "</ul>\n",
       "</td>\n",
       "<td style=\"vertical-align: top; border: 0px solid white\">\n",
       "<h3 style=\"text-align: left;\">Cluster</h3>\n",
       "<ul style=\"text-align: left; list-style:none; margin: 0; padding: 0;\">\n",
       "  <li><b>Workers: </b>1</li>\n",
       "  <li><b>Cores: </b>16</li>\n",
       "  <li><b>Memory: </b>181.25 GiB</li>\n",
       "</ul>\n",
       "</td>\n",
       "</tr>\n",
       "</table>"
      ],
      "text/plain": [
       "<Client: 'tcp://127.0.0.1:38069' processes=1 threads=16, memory=181.25 GiB>"
      ]
     },
     "execution_count": 1,
     "metadata": {},
     "output_type": "execute_result"
    }
   ],
   "source": [
    "from dask.distributed import Client, LocalCluster\n",
    "cluster = LocalCluster(n_workers=1, threads_per_worker=16)\n",
    "client = Client(cluster)\n",
    "client"
   ]
  },
  {
   "cell_type": "code",
   "execution_count": 2,
   "id": "8649b398",
   "metadata": {},
   "outputs": [],
   "source": [
    "indir='/burg/abernathey/users/csj2114/agulhas-offline/time_1/'\n",
    "import xarray as xr\n",
    "from glob import glob\n",
    "import numpy as np"
   ]
  },
  {
   "cell_type": "code",
   "execution_count": 3,
   "id": "e0e023b2",
   "metadata": {},
   "outputs": [],
   "source": [
    "fnames = sorted(glob(f'{indir}/process_*/rechunked_*.zarr'))"
   ]
  },
  {
   "cell_type": "code",
   "execution_count": 4,
   "id": "b7b58f93",
   "metadata": {},
   "outputs": [],
   "source": [
    "def lanczos(x, a):\n",
    "    return np.sinc(x/a)\n",
    "window_width=20\n",
    "weight = xr.DataArray(lanczos(np.arange(-window_width/2,window_width/2), window_width/2), dims=['window'])"
   ]
  },
  {
   "cell_type": "code",
   "execution_count": 5,
   "id": "05eb6d59",
   "metadata": {},
   "outputs": [
    {
     "name": "stdout",
     "output_type": "stream",
     "text": [
      "/burg/abernathey/users/csj2114/agulhas-offline/time_1/process_6048/rechunked_6048.zarr\n",
      "/burg/abernathey/users/csj2114/agulhas-offline/time_1/process_6192/rechunked_6192.zarr\n",
      "/burg/abernathey/users/csj2114/agulhas-offline/time_1/process_6336/rechunked_6336.zarr\n",
      "/burg/abernathey/users/csj2114/agulhas-offline/time_1/process_6480/rechunked_6480.zarr\n",
      "/burg/abernathey/users/csj2114/agulhas-offline/time_1/process_6624/rechunked_6624.zarr\n",
      "/burg/abernathey/users/csj2114/agulhas-offline/time_1/process_6768/rechunked_6768.zarr\n",
      "/burg/abernathey/users/csj2114/agulhas-offline/time_1/process_6912/rechunked_6912.zarr\n",
      "/burg/abernathey/users/csj2114/agulhas-offline/time_1/process_7056/rechunked_7056.zarr\n",
      "/burg/abernathey/users/csj2114/agulhas-offline/time_1/process_7200/rechunked_7200.zarr\n",
      "/burg/abernathey/users/csj2114/agulhas-offline/time_1/process_7344/rechunked_7344.zarr\n",
      "/burg/abernathey/users/csj2114/agulhas-offline/time_1/process_7488/rechunked_7488.zarr\n",
      "/burg/abernathey/users/csj2114/agulhas-offline/time_1/process_7632/rechunked_7632.zarr\n",
      "/burg/abernathey/users/csj2114/agulhas-offline/time_1/process_7776/rechunked_7776.zarr\n",
      "/burg/abernathey/users/csj2114/agulhas-offline/time_1/process_7920/rechunked_7920.zarr\n"
     ]
    },
    {
     "name": "stderr",
     "output_type": "stream",
     "text": [
      "distributed.utils_perf - WARNING - full garbage collections took 11% CPU time recently (threshold: 10%)\n",
      "distributed.utils_perf - WARNING - full garbage collections took 12% CPU time recently (threshold: 10%)\n"
     ]
    },
    {
     "name": "stdout",
     "output_type": "stream",
     "text": [
      "/burg/abernathey/users/csj2114/agulhas-offline/time_1/process_8064/rechunked_8064.zarr\n"
     ]
    },
    {
     "name": "stderr",
     "output_type": "stream",
     "text": [
      "distributed.utils_perf - WARNING - full garbage collections took 12% CPU time recently (threshold: 10%)\n",
      "distributed.utils_perf - WARNING - full garbage collections took 12% CPU time recently (threshold: 10%)\n",
      "distributed.utils_perf - WARNING - full garbage collections took 12% CPU time recently (threshold: 10%)\n",
      "distributed.utils_perf - WARNING - full garbage collections took 11% CPU time recently (threshold: 10%)\n",
      "distributed.utils_perf - WARNING - full garbage collections took 12% CPU time recently (threshold: 10%)\n"
     ]
    },
    {
     "name": "stdout",
     "output_type": "stream",
     "text": [
      "/burg/abernathey/users/csj2114/agulhas-offline/time_1/process_8208/rechunked_8208.zarr\n"
     ]
    },
    {
     "name": "stderr",
     "output_type": "stream",
     "text": [
      "distributed.utils_perf - WARNING - full garbage collections took 12% CPU time recently (threshold: 10%)\n",
      "distributed.utils_perf - WARNING - full garbage collections took 12% CPU time recently (threshold: 10%)\n",
      "distributed.utils_perf - WARNING - full garbage collections took 12% CPU time recently (threshold: 10%)\n",
      "distributed.utils_perf - WARNING - full garbage collections took 11% CPU time recently (threshold: 10%)\n",
      "distributed.utils_perf - WARNING - full garbage collections took 12% CPU time recently (threshold: 10%)\n"
     ]
    },
    {
     "name": "stdout",
     "output_type": "stream",
     "text": [
      "/burg/abernathey/users/csj2114/agulhas-offline/time_1/process_8352/rechunked_8352.zarr\n"
     ]
    },
    {
     "name": "stderr",
     "output_type": "stream",
     "text": [
      "distributed.utils_perf - WARNING - full garbage collections took 12% CPU time recently (threshold: 10%)\n",
      "distributed.utils_perf - WARNING - full garbage collections took 12% CPU time recently (threshold: 10%)\n",
      "distributed.utils_perf - WARNING - full garbage collections took 12% CPU time recently (threshold: 10%)\n",
      "distributed.utils_perf - WARNING - full garbage collections took 11% CPU time recently (threshold: 10%)\n",
      "distributed.utils_perf - WARNING - full garbage collections took 11% CPU time recently (threshold: 10%)\n"
     ]
    },
    {
     "name": "stdout",
     "output_type": "stream",
     "text": [
      "/burg/abernathey/users/csj2114/agulhas-offline/time_1/process_8496/rechunked_8496.zarr\n"
     ]
    },
    {
     "name": "stderr",
     "output_type": "stream",
     "text": [
      "distributed.utils_perf - WARNING - full garbage collections took 11% CPU time recently (threshold: 10%)\n",
      "distributed.utils_perf - WARNING - full garbage collections took 11% CPU time recently (threshold: 10%)\n",
      "distributed.utils_perf - WARNING - full garbage collections took 11% CPU time recently (threshold: 10%)\n",
      "distributed.utils_perf - WARNING - full garbage collections took 11% CPU time recently (threshold: 10%)\n"
     ]
    },
    {
     "name": "stdout",
     "output_type": "stream",
     "text": [
      "/burg/abernathey/users/csj2114/agulhas-offline/time_1/process_8640/rechunked_8640.zarr\n"
     ]
    },
    {
     "name": "stderr",
     "output_type": "stream",
     "text": [
      "distributed.utils_perf - WARNING - full garbage collections took 11% CPU time recently (threshold: 10%)\n",
      "distributed.utils_perf - WARNING - full garbage collections took 11% CPU time recently (threshold: 10%)\n",
      "distributed.utils_perf - WARNING - full garbage collections took 11% CPU time recently (threshold: 10%)\n",
      "distributed.utils_perf - WARNING - full garbage collections took 11% CPU time recently (threshold: 10%)\n",
      "distributed.utils_perf - WARNING - full garbage collections took 10% CPU time recently (threshold: 10%)\n"
     ]
    },
    {
     "name": "stdout",
     "output_type": "stream",
     "text": [
      "/burg/abernathey/users/csj2114/agulhas-offline/time_1/process_8784/rechunked_8784.zarr\n"
     ]
    },
    {
     "name": "stderr",
     "output_type": "stream",
     "text": [
      "distributed.utils_perf - WARNING - full garbage collections took 10% CPU time recently (threshold: 10%)\n",
      "distributed.utils_perf - WARNING - full garbage collections took 10% CPU time recently (threshold: 10%)\n",
      "distributed.utils_perf - WARNING - full garbage collections took 10% CPU time recently (threshold: 10%)\n",
      "distributed.utils_perf - WARNING - full garbage collections took 10% CPU time recently (threshold: 10%)\n",
      "distributed.utils_perf - WARNING - full garbage collections took 10% CPU time recently (threshold: 10%)\n"
     ]
    },
    {
     "name": "stdout",
     "output_type": "stream",
     "text": [
      "/burg/abernathey/users/csj2114/agulhas-offline/time_1/process_8928/rechunked_8928.zarr\n"
     ]
    },
    {
     "name": "stderr",
     "output_type": "stream",
     "text": [
      "distributed.utils_perf - WARNING - full garbage collections took 10% CPU time recently (threshold: 10%)\n",
      "distributed.utils_perf - WARNING - full garbage collections took 10% CPU time recently (threshold: 10%)\n",
      "distributed.utils_perf - WARNING - full garbage collections took 10% CPU time recently (threshold: 10%)\n"
     ]
    },
    {
     "name": "stdout",
     "output_type": "stream",
     "text": [
      "/burg/abernathey/users/csj2114/agulhas-offline/time_1/process_9072/rechunked_9072.zarr\n",
      "/burg/abernathey/users/csj2114/agulhas-offline/time_1/process_9216/rechunked_9216.zarr\n",
      "/burg/abernathey/users/csj2114/agulhas-offline/time_1/process_9360/rechunked_9360.zarr\n",
      "/burg/abernathey/users/csj2114/agulhas-offline/time_1/process_9504/rechunked_9504.zarr\n",
      "/burg/abernathey/users/csj2114/agulhas-offline/time_1/process_9648/rechunked_9648.zarr\n",
      "/burg/abernathey/users/csj2114/agulhas-offline/time_1/process_9792/rechunked_9792.zarr\n",
      "/burg/abernathey/users/csj2114/agulhas-offline/time_1/process_9936/rechunked_9936.zarr\n",
      "/burg/abernathey/users/csj2114/agulhas-offline/time_1/process_10080/rechunked_10080.zarr\n",
      "/burg/abernathey/users/csj2114/agulhas-offline/time_1/process_10224/rechunked_10224.zarr\n",
      "/burg/abernathey/users/csj2114/agulhas-offline/time_1/process_10368/rechunked_10368.zarr\n",
      "/burg/abernathey/users/csj2114/agulhas-offline/time_1/process_10512/rechunked_10512.zarr\n",
      "/burg/abernathey/users/csj2114/agulhas-offline/time_1/process_10656/rechunked_10656.zarr\n",
      "/burg/abernathey/users/csj2114/agulhas-offline/time_1/process_10800/rechunked_10800.zarr\n",
      "/burg/abernathey/users/csj2114/agulhas-offline/time_1/process_10944/rechunked_10944.zarr\n",
      "/burg/abernathey/users/csj2114/agulhas-offline/time_1/process_11088/rechunked_11088.zarr\n",
      "/burg/abernathey/users/csj2114/agulhas-offline/time_1/process_11232/rechunked_11232.zarr\n",
      "/burg/abernathey/users/csj2114/agulhas-offline/time_1/process_11376/rechunked_11376.zarr\n",
      "/burg/abernathey/users/csj2114/agulhas-offline/time_1/process_11520/rechunked_11520.zarr\n",
      "/burg/abernathey/users/csj2114/agulhas-offline/time_1/process_11664/rechunked_11664.zarr\n",
      "/burg/abernathey/users/csj2114/agulhas-offline/time_1/process_11808/rechunked_11808.zarr\n",
      "/burg/abernathey/users/csj2114/agulhas-offline/time_1/process_11952/rechunked_11952.zarr\n",
      "/burg/abernathey/users/csj2114/agulhas-offline/time_1/process_12096/rechunked_12096.zarr\n",
      "/burg/abernathey/users/csj2114/agulhas-offline/time_1/process_12240/rechunked_12240.zarr\n",
      "/burg/abernathey/users/csj2114/agulhas-offline/time_1/process_12384/rechunked_12384.zarr\n",
      "/burg/abernathey/users/csj2114/agulhas-offline/time_1/process_12528/rechunked_12528.zarr\n",
      "/burg/abernathey/users/csj2114/agulhas-offline/time_1/process_12672/rechunked_12672.zarr\n",
      "/burg/abernathey/users/csj2114/agulhas-offline/time_1/process_12816/rechunked_12816.zarr\n",
      "/burg/abernathey/users/csj2114/agulhas-offline/time_1/process_12960/rechunked_12960.zarr\n",
      "/burg/abernathey/users/csj2114/agulhas-offline/time_1/process_13104/rechunked_13104.zarr\n",
      "/burg/abernathey/users/csj2114/agulhas-offline/time_1/process_13248/rechunked_13248.zarr\n",
      "/burg/abernathey/users/csj2114/agulhas-offline/time_1/process_13392/rechunked_13392.zarr\n",
      "/burg/abernathey/users/csj2114/agulhas-offline/time_1/process_13536/rechunked_13536.zarr\n",
      "/burg/abernathey/users/csj2114/agulhas-offline/time_1/process_13680/rechunked_13680.zarr\n",
      "/burg/abernathey/users/csj2114/agulhas-offline/time_1/process_13824/rechunked_13824.zarr\n",
      "/burg/abernathey/users/csj2114/agulhas-offline/time_1/process_13968/rechunked_13968.zarr\n",
      "/burg/abernathey/users/csj2114/agulhas-offline/time_1/process_14112/rechunked_14112.zarr\n"
     ]
    },
    {
     "name": "stderr",
     "output_type": "stream",
     "text": [
      "distributed.utils_perf - WARNING - full garbage collections took 10% CPU time recently (threshold: 10%)\n"
     ]
    },
    {
     "name": "stdout",
     "output_type": "stream",
     "text": [
      "/burg/abernathey/users/csj2114/agulhas-offline/time_1/process_14256/rechunked_14256.zarr\n"
     ]
    },
    {
     "name": "stderr",
     "output_type": "stream",
     "text": [
      "distributed.utils_perf - WARNING - full garbage collections took 10% CPU time recently (threshold: 10%)\n",
      "distributed.utils_perf - WARNING - full garbage collections took 10% CPU time recently (threshold: 10%)\n",
      "distributed.utils_perf - WARNING - full garbage collections took 10% CPU time recently (threshold: 10%)\n",
      "distributed.utils_perf - WARNING - full garbage collections took 10% CPU time recently (threshold: 10%)\n"
     ]
    },
    {
     "name": "stdout",
     "output_type": "stream",
     "text": [
      "/burg/abernathey/users/csj2114/agulhas-offline/time_1/process_14400/rechunked_14400.zarr\n"
     ]
    },
    {
     "name": "stderr",
     "output_type": "stream",
     "text": [
      "distributed.utils_perf - WARNING - full garbage collections took 10% CPU time recently (threshold: 10%)\n"
     ]
    },
    {
     "name": "stdout",
     "output_type": "stream",
     "text": [
      "/burg/abernathey/users/csj2114/agulhas-offline/time_1/process_14544/rechunked_14544.zarr\n"
     ]
    },
    {
     "name": "stderr",
     "output_type": "stream",
     "text": [
      "distributed.utils_perf - WARNING - full garbage collections took 10% CPU time recently (threshold: 10%)\n",
      "distributed.utils_perf - WARNING - full garbage collections took 10% CPU time recently (threshold: 10%)\n",
      "distributed.utils_perf - WARNING - full garbage collections took 10% CPU time recently (threshold: 10%)\n",
      "distributed.utils_perf - WARNING - full garbage collections took 10% CPU time recently (threshold: 10%)\n"
     ]
    },
    {
     "name": "stdout",
     "output_type": "stream",
     "text": [
      "/burg/abernathey/users/csj2114/agulhas-offline/time_1/process_14688/rechunked_14688.zarr\n"
     ]
    },
    {
     "name": "stderr",
     "output_type": "stream",
     "text": [
      "distributed.utils_perf - WARNING - full garbage collections took 10% CPU time recently (threshold: 10%)\n",
      "distributed.utils_perf - WARNING - full garbage collections took 10% CPU time recently (threshold: 10%)\n",
      "distributed.utils_perf - WARNING - full garbage collections took 10% CPU time recently (threshold: 10%)\n",
      "distributed.utils_perf - WARNING - full garbage collections took 10% CPU time recently (threshold: 10%)\n",
      "distributed.utils_perf - WARNING - full garbage collections took 10% CPU time recently (threshold: 10%)\n"
     ]
    },
    {
     "name": "stdout",
     "output_type": "stream",
     "text": [
      "/burg/abernathey/users/csj2114/agulhas-offline/time_1/process_14832/rechunked_14832.zarr\n"
     ]
    },
    {
     "name": "stderr",
     "output_type": "stream",
     "text": [
      "distributed.utils_perf - WARNING - full garbage collections took 10% CPU time recently (threshold: 10%)\n",
      "distributed.utils_perf - WARNING - full garbage collections took 10% CPU time recently (threshold: 10%)\n",
      "distributed.utils_perf - WARNING - full garbage collections took 10% CPU time recently (threshold: 10%)\n",
      "distributed.utils_perf - WARNING - full garbage collections took 10% CPU time recently (threshold: 10%)\n",
      "distributed.utils_perf - WARNING - full garbage collections took 10% CPU time recently (threshold: 10%)\n"
     ]
    },
    {
     "name": "stdout",
     "output_type": "stream",
     "text": [
      "/burg/abernathey/users/csj2114/agulhas-offline/time_1/process_14976/rechunked_14976.zarr\n"
     ]
    },
    {
     "name": "stderr",
     "output_type": "stream",
     "text": [
      "distributed.utils_perf - WARNING - full garbage collections took 10% CPU time recently (threshold: 10%)\n",
      "distributed.utils_perf - WARNING - full garbage collections took 10% CPU time recently (threshold: 10%)\n",
      "distributed.utils_perf - WARNING - full garbage collections took 10% CPU time recently (threshold: 10%)\n",
      "distributed.utils_perf - WARNING - full garbage collections took 10% CPU time recently (threshold: 10%)\n",
      "distributed.utils_perf - WARNING - full garbage collections took 10% CPU time recently (threshold: 10%)\n"
     ]
    },
    {
     "name": "stdout",
     "output_type": "stream",
     "text": [
      "/burg/abernathey/users/csj2114/agulhas-offline/time_1/process_15120/rechunked_15120.zarr\n"
     ]
    },
    {
     "name": "stderr",
     "output_type": "stream",
     "text": [
      "distributed.utils_perf - WARNING - full garbage collections took 10% CPU time recently (threshold: 10%)\n",
      "distributed.utils_perf - WARNING - full garbage collections took 10% CPU time recently (threshold: 10%)\n",
      "distributed.utils_perf - WARNING - full garbage collections took 10% CPU time recently (threshold: 10%)\n",
      "distributed.utils_perf - WARNING - full garbage collections took 10% CPU time recently (threshold: 10%)\n"
     ]
    },
    {
     "name": "stdout",
     "output_type": "stream",
     "text": [
      "/burg/abernathey/users/csj2114/agulhas-offline/time_1/process_15264/rechunked_15264.zarr\n",
      "/burg/abernathey/users/csj2114/agulhas-offline/time_1/process_15408/rechunked_15408.zarr\n",
      "/burg/abernathey/users/csj2114/agulhas-offline/time_1/process_15552/rechunked_15552.zarr\n",
      "/burg/abernathey/users/csj2114/agulhas-offline/time_1/process_15696/rechunked_15696.zarr\n",
      "/burg/abernathey/users/csj2114/agulhas-offline/time_1/process_15840/rechunked_15840.zarr\n",
      "/burg/abernathey/users/csj2114/agulhas-offline/time_1/process_15984/rechunked_15984.zarr\n",
      "/burg/abernathey/users/csj2114/agulhas-offline/time_1/process_16128/rechunked_16128.zarr\n",
      "/burg/abernathey/users/csj2114/agulhas-offline/time_1/process_16272/rechunked_16272.zarr\n",
      "/burg/abernathey/users/csj2114/agulhas-offline/time_1/process_16416/rechunked_16416.zarr\n",
      "/burg/abernathey/users/csj2114/agulhas-offline/time_1/process_16560/rechunked_16560.zarr\n",
      "/burg/abernathey/users/csj2114/agulhas-offline/time_1/process_16704/rechunked_16704.zarr\n",
      "/burg/abernathey/users/csj2114/agulhas-offline/time_1/process_16848/rechunked_16848.zarr\n",
      "/burg/abernathey/users/csj2114/agulhas-offline/time_1/process_16992/rechunked_16992.zarr\n"
     ]
    },
    {
     "name": "stderr",
     "output_type": "stream",
     "text": [
      "distributed.utils_perf - WARNING - full garbage collections took 10% CPU time recently (threshold: 10%)\n"
     ]
    },
    {
     "name": "stdout",
     "output_type": "stream",
     "text": [
      "/burg/abernathey/users/csj2114/agulhas-offline/time_1/process_17136/rechunked_17136.zarr\n"
     ]
    },
    {
     "name": "stderr",
     "output_type": "stream",
     "text": [
      "distributed.utils_perf - WARNING - full garbage collections took 10% CPU time recently (threshold: 10%)\n",
      "distributed.utils_perf - WARNING - full garbage collections took 10% CPU time recently (threshold: 10%)\n",
      "distributed.utils_perf - WARNING - full garbage collections took 10% CPU time recently (threshold: 10%)\n",
      "distributed.utils_perf - WARNING - full garbage collections took 10% CPU time recently (threshold: 10%)\n"
     ]
    },
    {
     "name": "stdout",
     "output_type": "stream",
     "text": [
      "/burg/abernathey/users/csj2114/agulhas-offline/time_1/process_17280/rechunked_17280.zarr\n"
     ]
    },
    {
     "name": "stderr",
     "output_type": "stream",
     "text": [
      "distributed.utils_perf - WARNING - full garbage collections took 10% CPU time recently (threshold: 10%)\n",
      "distributed.utils_perf - WARNING - full garbage collections took 10% CPU time recently (threshold: 10%)\n",
      "distributed.utils_perf - WARNING - full garbage collections took 10% CPU time recently (threshold: 10%)\n",
      "distributed.utils_perf - WARNING - full garbage collections took 10% CPU time recently (threshold: 10%)\n",
      "distributed.utils_perf - WARNING - full garbage collections took 10% CPU time recently (threshold: 10%)\n"
     ]
    },
    {
     "name": "stdout",
     "output_type": "stream",
     "text": [
      "/burg/abernathey/users/csj2114/agulhas-offline/time_1/process_17424/rechunked_17424.zarr\n"
     ]
    },
    {
     "name": "stderr",
     "output_type": "stream",
     "text": [
      "distributed.utils_perf - WARNING - full garbage collections took 10% CPU time recently (threshold: 10%)\n",
      "distributed.utils_perf - WARNING - full garbage collections took 10% CPU time recently (threshold: 10%)\n",
      "distributed.utils_perf - WARNING - full garbage collections took 10% CPU time recently (threshold: 10%)\n",
      "distributed.utils_perf - WARNING - full garbage collections took 10% CPU time recently (threshold: 10%)\n",
      "distributed.utils_perf - WARNING - full garbage collections took 10% CPU time recently (threshold: 10%)\n"
     ]
    },
    {
     "name": "stdout",
     "output_type": "stream",
     "text": [
      "/burg/abernathey/users/csj2114/agulhas-offline/time_1/process_17568/rechunked_17568.zarr\n"
     ]
    },
    {
     "name": "stderr",
     "output_type": "stream",
     "text": [
      "distributed.utils_perf - WARNING - full garbage collections took 10% CPU time recently (threshold: 10%)\n",
      "distributed.utils_perf - WARNING - full garbage collections took 10% CPU time recently (threshold: 10%)\n",
      "distributed.utils_perf - WARNING - full garbage collections took 10% CPU time recently (threshold: 10%)\n",
      "distributed.utils_perf - WARNING - full garbage collections took 10% CPU time recently (threshold: 10%)\n",
      "distributed.utils_perf - WARNING - full garbage collections took 10% CPU time recently (threshold: 10%)\n"
     ]
    }
   ],
   "source": [
    "target_unf = '/burg/abernathey/users/csj2114/agulhas-offline/time_1/unfiltered_vels.zarr'\n",
    "target_filt = '/burg/abernathey/users/csj2114/agulhas-offline/time_1/filtered_vels.zarr'\n",
    "\n",
    "nofiles = len(fnames)\n",
    "for fileno in range(0,nofiles):#\n",
    "        iterno = 6048+144*fileno\n",
    "        print('/burg/abernathey/users/csj2114/agulhas-offline/time_1/process_'+ str(iterno) + '/rechunked_' \n",
    "              + str(iterno) + '.zarr')\n",
    "        ds = xr.open_zarr('/burg/abernathey/users/csj2114/agulhas-offline/time_1/process_'+ str(iterno) + '/rechunked_' \n",
    "              + str(iterno) + '.zarr')\n",
    "        ds = ds.isel(niter=slice(1,74))\n",
    "        ds['time'] = ds['niter']*3600/144\n",
    "        ds = ds.assign_coords({\"time\": ds.time})\n",
    "        ds = ds.swap_dims({\"niter\": \"time\"})\n",
    "        ds = ds.where((ds.u!=-999).all(dim='time'))\n",
    "        window_width=20\n",
    "        weight = xr.DataArray(lanczos(np.arange(-window_width/2,window_width/2), window_width/2), dims=['window'])\n",
    "        windowed_u = ds.u.rolling(time=window_width, center=True).construct('window').dot(weight)/np.sum(weight)\n",
    "        windowed_v = ds.v.rolling(time=window_width, center=True).construct('window').dot(weight)/np.sum(weight)\n",
    "        u_piece = windowed_u.sel(time=0).isel(z0=3)\n",
    "        v_piece = windowed_v.sel(time=0).isel(z0=3)\n",
    "        u_piece2 = ds.u.sel(time=0).isel(z0=3)\n",
    "        v_piece2 = ds.v.sel(time=0).isel(z0=3)\n",
    "        u_piece[\"time\"] = fileno*3600\n",
    "        v_piece[\"time\"] = fileno*3600\n",
    "        u_piece2[\"time\"] = fileno*3600\n",
    "        v_piece2[\"time\"] = fileno*3600\n",
    "        unfiltered_vels = u_piece2.to_dataset(name='u')\n",
    "        unfiltered_vels['v'] = v_piece2\n",
    "        unfiltered_vels.time.attrs['units']='time in seconds'\n",
    "        unfiltered_vels.u.attrs['units']='m/s'\n",
    "        unfiltered_vels.v.attrs['units']='m/s'\n",
    "        unfiltered_vels.y0.attrs['long_name']='latitude'\n",
    "        unfiltered_vels.x0.attrs['units']='longitude'\n",
    "        unfiltered_vels = unfiltered_vels.rename_dims({\"x0\":\"i\"})\n",
    "        unfiltered_vels = unfiltered_vels.rename_dims({\"y0\":\"j\"})\n",
    "        unfiltered_vels.expand_dims('time').chunk().to_zarr(target_unf, append_dim='time')\n",
    "        filtered_vels = u_piece.to_dataset(name='u')\n",
    "        filtered_vels['v'] = v_piece\n",
    "        filtered_vels.time.attrs['units']='time in seconds'\n",
    "        filtered_vels.u.attrs['units']='m/s'\n",
    "        filtered_vels.v.attrs['units']='m/s'\n",
    "        filtered_vels.y0.attrs['long_name']='latitude'\n",
    "        filtered_vels.x0.attrs['units']='longitude'\n",
    "        filtered_vels = filtered_vels.rename_dims({\"x0\":\"i\"})\n",
    "        filtered_vels = filtered_vels.rename_dims({\"y0\":\"j\"})\n",
    "        filtered_vels.expand_dims('time').chunk().to_zarr(target_filt, append_dim='time')\n",
    "        #if fileno==0:\n",
    "        #    u_filtered = u_piece\n",
    "        #    v_filtered = v_piece\n",
    "        #    u_unfiltered = u_piece2\n",
    "        #    v_unfiltered = v_piece2\n",
    "        #else:\n",
    "        #    u_filtered = xr.concat([u_filtered,u_piece],dim='time')\n",
    "        #    v_filtered = xr.concat([v_filtered,v_piece],dim='time')\n",
    "        #    u_unfiltered = xr.concat([u_unfiltered,u_piece2],dim='time')\n",
    "        #    v_unfiltered = xr.concat([v_unfiltered,v_piece2],dim='time')"
   ]
  },
  {
   "cell_type": "code",
   "execution_count": 6,
   "id": "ef445f02",
   "metadata": {},
   "outputs": [
    {
     "data": {
      "text/plain": [
       "81"
      ]
     },
     "execution_count": 6,
     "metadata": {},
     "output_type": "execute_result"
    }
   ],
   "source": [
    "nofiles = len(fnames)\n",
    "nofiles"
   ]
  },
  {
   "cell_type": "code",
   "execution_count": 7,
   "id": "183d55c1",
   "metadata": {},
   "outputs": [
    {
     "name": "stdout",
     "output_type": "stream",
     "text": [
      "/burg/abernathey/users/csj2114/agulhas-offline/time_1/process_6048/rechunked_6048.zarr\n",
      "/burg/abernathey/users/csj2114/agulhas-offline/time_1/process_6192/rechunked_6192.zarr\n",
      "/burg/abernathey/users/csj2114/agulhas-offline/time_1/process_6336/rechunked_6336.zarr\n",
      "/burg/abernathey/users/csj2114/agulhas-offline/time_1/process_6480/rechunked_6480.zarr\n",
      "/burg/abernathey/users/csj2114/agulhas-offline/time_1/process_6624/rechunked_6624.zarr\n",
      "/burg/abernathey/users/csj2114/agulhas-offline/time_1/process_6768/rechunked_6768.zarr\n",
      "/burg/abernathey/users/csj2114/agulhas-offline/time_1/process_6912/rechunked_6912.zarr\n",
      "/burg/abernathey/users/csj2114/agulhas-offline/time_1/process_7056/rechunked_7056.zarr\n",
      "/burg/abernathey/users/csj2114/agulhas-offline/time_1/process_7200/rechunked_7200.zarr\n",
      "/burg/abernathey/users/csj2114/agulhas-offline/time_1/process_7344/rechunked_7344.zarr\n",
      "/burg/abernathey/users/csj2114/agulhas-offline/time_1/process_7488/rechunked_7488.zarr\n",
      "/burg/abernathey/users/csj2114/agulhas-offline/time_1/process_7632/rechunked_7632.zarr\n"
     ]
    },
    {
     "name": "stderr",
     "output_type": "stream",
     "text": [
      "distributed.utils_perf - WARNING - full garbage collections took 10% CPU time recently (threshold: 10%)\n"
     ]
    },
    {
     "name": "stdout",
     "output_type": "stream",
     "text": [
      "/burg/abernathey/users/csj2114/agulhas-offline/time_1/process_7776/rechunked_7776.zarr\n"
     ]
    },
    {
     "name": "stderr",
     "output_type": "stream",
     "text": [
      "distributed.utils_perf - WARNING - full garbage collections took 10% CPU time recently (threshold: 10%)\n",
      "distributed.utils_perf - WARNING - full garbage collections took 10% CPU time recently (threshold: 10%)\n",
      "distributed.utils_perf - WARNING - full garbage collections took 10% CPU time recently (threshold: 10%)\n",
      "distributed.utils_perf - WARNING - full garbage collections took 10% CPU time recently (threshold: 10%)\n"
     ]
    },
    {
     "name": "stdout",
     "output_type": "stream",
     "text": [
      "/burg/abernathey/users/csj2114/agulhas-offline/time_1/process_7920/rechunked_7920.zarr\n",
      "/burg/abernathey/users/csj2114/agulhas-offline/time_1/process_8064/rechunked_8064.zarr\n",
      "/burg/abernathey/users/csj2114/agulhas-offline/time_1/process_8208/rechunked_8208.zarr\n",
      "/burg/abernathey/users/csj2114/agulhas-offline/time_1/process_8352/rechunked_8352.zarr\n",
      "/burg/abernathey/users/csj2114/agulhas-offline/time_1/process_8496/rechunked_8496.zarr\n",
      "/burg/abernathey/users/csj2114/agulhas-offline/time_1/process_8640/rechunked_8640.zarr\n",
      "/burg/abernathey/users/csj2114/agulhas-offline/time_1/process_8784/rechunked_8784.zarr\n",
      "/burg/abernathey/users/csj2114/agulhas-offline/time_1/process_8928/rechunked_8928.zarr\n",
      "/burg/abernathey/users/csj2114/agulhas-offline/time_1/process_9072/rechunked_9072.zarr\n",
      "/burg/abernathey/users/csj2114/agulhas-offline/time_1/process_9216/rechunked_9216.zarr\n",
      "/burg/abernathey/users/csj2114/agulhas-offline/time_1/process_9360/rechunked_9360.zarr\n",
      "/burg/abernathey/users/csj2114/agulhas-offline/time_1/process_9504/rechunked_9504.zarr\n",
      "/burg/abernathey/users/csj2114/agulhas-offline/time_1/process_9648/rechunked_9648.zarr\n",
      "/burg/abernathey/users/csj2114/agulhas-offline/time_1/process_9792/rechunked_9792.zarr\n",
      "/burg/abernathey/users/csj2114/agulhas-offline/time_1/process_9936/rechunked_9936.zarr\n",
      "/burg/abernathey/users/csj2114/agulhas-offline/time_1/process_10080/rechunked_10080.zarr\n",
      "/burg/abernathey/users/csj2114/agulhas-offline/time_1/process_10224/rechunked_10224.zarr\n",
      "/burg/abernathey/users/csj2114/agulhas-offline/time_1/process_10368/rechunked_10368.zarr\n",
      "/burg/abernathey/users/csj2114/agulhas-offline/time_1/process_10512/rechunked_10512.zarr\n",
      "/burg/abernathey/users/csj2114/agulhas-offline/time_1/process_10656/rechunked_10656.zarr\n",
      "/burg/abernathey/users/csj2114/agulhas-offline/time_1/process_10800/rechunked_10800.zarr\n",
      "/burg/abernathey/users/csj2114/agulhas-offline/time_1/process_10944/rechunked_10944.zarr\n",
      "/burg/abernathey/users/csj2114/agulhas-offline/time_1/process_11088/rechunked_11088.zarr\n",
      "/burg/abernathey/users/csj2114/agulhas-offline/time_1/process_11232/rechunked_11232.zarr\n",
      "/burg/abernathey/users/csj2114/agulhas-offline/time_1/process_11376/rechunked_11376.zarr\n",
      "/burg/abernathey/users/csj2114/agulhas-offline/time_1/process_11520/rechunked_11520.zarr\n",
      "/burg/abernathey/users/csj2114/agulhas-offline/time_1/process_11664/rechunked_11664.zarr\n",
      "/burg/abernathey/users/csj2114/agulhas-offline/time_1/process_11808/rechunked_11808.zarr\n",
      "/burg/abernathey/users/csj2114/agulhas-offline/time_1/process_11952/rechunked_11952.zarr\n",
      "/burg/abernathey/users/csj2114/agulhas-offline/time_1/process_12096/rechunked_12096.zarr\n",
      "/burg/abernathey/users/csj2114/agulhas-offline/time_1/process_12240/rechunked_12240.zarr\n",
      "/burg/abernathey/users/csj2114/agulhas-offline/time_1/process_12384/rechunked_12384.zarr\n",
      "/burg/abernathey/users/csj2114/agulhas-offline/time_1/process_12528/rechunked_12528.zarr\n",
      "/burg/abernathey/users/csj2114/agulhas-offline/time_1/process_12672/rechunked_12672.zarr\n",
      "/burg/abernathey/users/csj2114/agulhas-offline/time_1/process_12816/rechunked_12816.zarr\n",
      "/burg/abernathey/users/csj2114/agulhas-offline/time_1/process_12960/rechunked_12960.zarr\n",
      "/burg/abernathey/users/csj2114/agulhas-offline/time_1/process_13104/rechunked_13104.zarr\n",
      "/burg/abernathey/users/csj2114/agulhas-offline/time_1/process_13248/rechunked_13248.zarr\n",
      "/burg/abernathey/users/csj2114/agulhas-offline/time_1/process_13392/rechunked_13392.zarr\n",
      "/burg/abernathey/users/csj2114/agulhas-offline/time_1/process_13536/rechunked_13536.zarr\n",
      "/burg/abernathey/users/csj2114/agulhas-offline/time_1/process_13680/rechunked_13680.zarr\n",
      "/burg/abernathey/users/csj2114/agulhas-offline/time_1/process_13824/rechunked_13824.zarr\n",
      "/burg/abernathey/users/csj2114/agulhas-offline/time_1/process_13968/rechunked_13968.zarr\n",
      "/burg/abernathey/users/csj2114/agulhas-offline/time_1/process_14112/rechunked_14112.zarr\n",
      "/burg/abernathey/users/csj2114/agulhas-offline/time_1/process_14256/rechunked_14256.zarr\n",
      "/burg/abernathey/users/csj2114/agulhas-offline/time_1/process_14400/rechunked_14400.zarr\n",
      "/burg/abernathey/users/csj2114/agulhas-offline/time_1/process_14544/rechunked_14544.zarr\n",
      "/burg/abernathey/users/csj2114/agulhas-offline/time_1/process_14688/rechunked_14688.zarr\n",
      "/burg/abernathey/users/csj2114/agulhas-offline/time_1/process_14832/rechunked_14832.zarr\n",
      "/burg/abernathey/users/csj2114/agulhas-offline/time_1/process_14976/rechunked_14976.zarr\n",
      "/burg/abernathey/users/csj2114/agulhas-offline/time_1/process_15120/rechunked_15120.zarr\n",
      "/burg/abernathey/users/csj2114/agulhas-offline/time_1/process_15264/rechunked_15264.zarr\n",
      "/burg/abernathey/users/csj2114/agulhas-offline/time_1/process_15408/rechunked_15408.zarr\n",
      "/burg/abernathey/users/csj2114/agulhas-offline/time_1/process_15552/rechunked_15552.zarr\n",
      "/burg/abernathey/users/csj2114/agulhas-offline/time_1/process_15696/rechunked_15696.zarr\n",
      "/burg/abernathey/users/csj2114/agulhas-offline/time_1/process_15840/rechunked_15840.zarr\n",
      "/burg/abernathey/users/csj2114/agulhas-offline/time_1/process_15984/rechunked_15984.zarr\n",
      "/burg/abernathey/users/csj2114/agulhas-offline/time_1/process_16128/rechunked_16128.zarr\n",
      "/burg/abernathey/users/csj2114/agulhas-offline/time_1/process_16272/rechunked_16272.zarr\n",
      "/burg/abernathey/users/csj2114/agulhas-offline/time_1/process_16416/rechunked_16416.zarr\n",
      "/burg/abernathey/users/csj2114/agulhas-offline/time_1/process_16560/rechunked_16560.zarr\n",
      "/burg/abernathey/users/csj2114/agulhas-offline/time_1/process_16704/rechunked_16704.zarr\n",
      "/burg/abernathey/users/csj2114/agulhas-offline/time_1/process_16848/rechunked_16848.zarr\n",
      "/burg/abernathey/users/csj2114/agulhas-offline/time_1/process_16992/rechunked_16992.zarr\n",
      "/burg/abernathey/users/csj2114/agulhas-offline/time_1/process_17136/rechunked_17136.zarr\n",
      "/burg/abernathey/users/csj2114/agulhas-offline/time_1/process_17280/rechunked_17280.zarr\n",
      "/burg/abernathey/users/csj2114/agulhas-offline/time_1/process_17424/rechunked_17424.zarr\n",
      "/burg/abernathey/users/csj2114/agulhas-offline/time_1/process_17568/rechunked_17568.zarr\n"
     ]
    }
   ],
   "source": [
    "target_unf = '/burg/abernathey/users/csj2114/agulhas-offline/time_1/unfiltered_eta_nom.zarr'\n",
    "target_filt = '/burg/abernathey/users/csj2114/agulhas-offline/time_1/filtered_eta_nom.zarr'\n",
    "nofiles = len(fnames)\n",
    "for fileno in range(0,nofiles):#nofiles\n",
    "        iterno = 6048+144*fileno\n",
    "        print('/burg/abernathey/users/csj2114/agulhas-offline/time_1/process_'+ str(iterno) + '/rechunked_' \n",
    "              + str(iterno) + '.zarr')\n",
    "        ds = xr.open_zarr('/burg/abernathey/users/csj2114/agulhas-offline/time_1/process_'+ str(iterno) + '/rechunked_' \n",
    "              + str(iterno) + '.zarr')\n",
    "        ds = ds.isel(niter=slice(1,74))\n",
    "        ds['time'] = ds['niter']*3600/144\n",
    "        ds = ds.assign_coords({\"time\": ds.time})\n",
    "        ds = ds.swap_dims({\"niter\": \"time\"})\n",
    "        ds = ds.where((ds.u!=-999).all(dim='time'))\n",
    "        mask_roundx = abs(ds.x.diff('time')).max('time')\n",
    "        mask_roundy = abs(ds.y.diff('time')).max('time')\n",
    "        ds = ds.where(mask_roundx<30)\n",
    "        ds = ds.where(mask_roundy<30)\n",
    "        window_width=20\n",
    "        weight = xr.DataArray(lanczos(np.arange(-window_width/2,window_width/2), window_width/2), dims=['window'])\n",
    "        windowed_eta = ds.eta.rolling(time=window_width, center=True).construct('window').dot(weight)/np.sum(weight)\n",
    "        eta_piece = windowed_eta.sel(time=0).isel(z0=3)\n",
    "        eta_piece2 = ds.eta.sel(time=0).isel(z0=3)\n",
    "        eta_piece[\"time\"] = fileno*3600\n",
    "        eta_piece2[\"time\"] = fileno*3600\n",
    "        unfiltered_eta = eta_piece2.to_dataset(name='eta')\n",
    "        unfiltered_eta.time.attrs['units']='time in seconds'\n",
    "        unfiltered_eta.y0.attrs['long_name']='latitude'\n",
    "        unfiltered_eta.x0.attrs['units']='longitude'\n",
    "        unfiltered_eta = unfiltered_eta.rename_dims({\"x0\":\"i\"})\n",
    "        unfiltered_eta = unfiltered_eta.rename_dims({\"y0\":\"j\"})\n",
    "        unfiltered_eta.expand_dims('time').chunk().to_zarr(target_unf, append_dim='time')\n",
    "        filtered_eta = eta_piece.to_dataset(name='eta')\n",
    "        filtered_eta.time.attrs['units']='time in seconds'\n",
    "        filtered_eta.y0.attrs['long_name']='latitude'\n",
    "        filtered_eta.x0.attrs['units']='longitude'\n",
    "        filtered_eta = filtered_eta.rename_dims({\"x0\":\"i\"})\n",
    "        filtered_eta = filtered_eta.rename_dims({\"y0\":\"j\"})\n",
    "        filtered_eta.expand_dims('time').chunk().to_zarr(target_filt, append_dim='time')"
   ]
  },
  {
   "cell_type": "code",
   "execution_count": 11,
   "id": "6f8fd390",
   "metadata": {},
   "outputs": [
    {
     "data": {
      "text/plain": [
       "<xarray.backends.zarr.ZarrStore at 0x1553bf51dee0>"
      ]
     },
     "execution_count": 11,
     "metadata": {},
     "output_type": "execute_result"
    }
   ],
   "source": [
    "filtered_vels = u_filtered.to_dataset(name='u')\n",
    "filtered_vels['v'] = v_filtered\n",
    "filtered_vels.time.attrs['units']='time in seconds'\n",
    "filtered_vels.u.attrs['units']='m/s'\n",
    "filtered_vels.v.attrs['units']='m/s'\n",
    "filtered_vels.y0.attrs['long_name']='latitude'\n",
    "filtered_vels.x0.attrs['units']='longitude'\n",
    "filtered_vels = filtered_vels.rename_dims({\"x0\":\"i\"})\n",
    "filtered_vels = filtered_vels.rename_dims({\"y0\":\"j\"})\n",
    "filtered_vels.chunk().to_zarr('/burg/abernathey/users/csj2114/agulhas-offline/time_1/filtered_vels.zarr')"
   ]
  },
  {
   "cell_type": "code",
   "execution_count": 8,
   "id": "7d7e084e",
   "metadata": {},
   "outputs": [
    {
     "data": {
      "text/html": [
       "<div><svg style=\"position: absolute; width: 0; height: 0; overflow: hidden\">\n",
       "<defs>\n",
       "<symbol id=\"icon-database\" viewBox=\"0 0 32 32\">\n",
       "<path d=\"M16 0c-8.837 0-16 2.239-16 5v4c0 2.761 7.163 5 16 5s16-2.239 16-5v-4c0-2.761-7.163-5-16-5z\"></path>\n",
       "<path d=\"M16 17c-8.837 0-16-2.239-16-5v6c0 2.761 7.163 5 16 5s16-2.239 16-5v-6c0 2.761-7.163 5-16 5z\"></path>\n",
       "<path d=\"M16 26c-8.837 0-16-2.239-16-5v6c0 2.761 7.163 5 16 5s16-2.239 16-5v-6c0 2.761-7.163 5-16 5z\"></path>\n",
       "</symbol>\n",
       "<symbol id=\"icon-file-text2\" viewBox=\"0 0 32 32\">\n",
       "<path d=\"M28.681 7.159c-0.694-0.947-1.662-2.053-2.724-3.116s-2.169-2.030-3.116-2.724c-1.612-1.182-2.393-1.319-2.841-1.319h-15.5c-1.378 0-2.5 1.121-2.5 2.5v27c0 1.378 1.122 2.5 2.5 2.5h23c1.378 0 2.5-1.122 2.5-2.5v-19.5c0-0.448-0.137-1.23-1.319-2.841zM24.543 5.457c0.959 0.959 1.712 1.825 2.268 2.543h-4.811v-4.811c0.718 0.556 1.584 1.309 2.543 2.268zM28 29.5c0 0.271-0.229 0.5-0.5 0.5h-23c-0.271 0-0.5-0.229-0.5-0.5v-27c0-0.271 0.229-0.5 0.5-0.5 0 0 15.499-0 15.5 0v7c0 0.552 0.448 1 1 1h7v19.5z\"></path>\n",
       "<path d=\"M23 26h-14c-0.552 0-1-0.448-1-1s0.448-1 1-1h14c0.552 0 1 0.448 1 1s-0.448 1-1 1z\"></path>\n",
       "<path d=\"M23 22h-14c-0.552 0-1-0.448-1-1s0.448-1 1-1h14c0.552 0 1 0.448 1 1s-0.448 1-1 1z\"></path>\n",
       "<path d=\"M23 18h-14c-0.552 0-1-0.448-1-1s0.448-1 1-1h14c0.552 0 1 0.448 1 1s-0.448 1-1 1z\"></path>\n",
       "</symbol>\n",
       "</defs>\n",
       "</svg>\n",
       "<style>/* CSS stylesheet for displaying xarray objects in jupyterlab.\n",
       " *\n",
       " */\n",
       "\n",
       ":root {\n",
       "  --xr-font-color0: var(--jp-content-font-color0, rgba(0, 0, 0, 1));\n",
       "  --xr-font-color2: var(--jp-content-font-color2, rgba(0, 0, 0, 0.54));\n",
       "  --xr-font-color3: var(--jp-content-font-color3, rgba(0, 0, 0, 0.38));\n",
       "  --xr-border-color: var(--jp-border-color2, #e0e0e0);\n",
       "  --xr-disabled-color: var(--jp-layout-color3, #bdbdbd);\n",
       "  --xr-background-color: var(--jp-layout-color0, white);\n",
       "  --xr-background-color-row-even: var(--jp-layout-color1, white);\n",
       "  --xr-background-color-row-odd: var(--jp-layout-color2, #eeeeee);\n",
       "}\n",
       "\n",
       "html[theme=dark],\n",
       "body.vscode-dark {\n",
       "  --xr-font-color0: rgba(255, 255, 255, 1);\n",
       "  --xr-font-color2: rgba(255, 255, 255, 0.54);\n",
       "  --xr-font-color3: rgba(255, 255, 255, 0.38);\n",
       "  --xr-border-color: #1F1F1F;\n",
       "  --xr-disabled-color: #515151;\n",
       "  --xr-background-color: #111111;\n",
       "  --xr-background-color-row-even: #111111;\n",
       "  --xr-background-color-row-odd: #313131;\n",
       "}\n",
       "\n",
       ".xr-wrap {\n",
       "  display: block;\n",
       "  min-width: 300px;\n",
       "  max-width: 700px;\n",
       "}\n",
       "\n",
       ".xr-text-repr-fallback {\n",
       "  /* fallback to plain text repr when CSS is not injected (untrusted notebook) */\n",
       "  display: none;\n",
       "}\n",
       "\n",
       ".xr-header {\n",
       "  padding-top: 6px;\n",
       "  padding-bottom: 6px;\n",
       "  margin-bottom: 4px;\n",
       "  border-bottom: solid 1px var(--xr-border-color);\n",
       "}\n",
       "\n",
       ".xr-header > div,\n",
       ".xr-header > ul {\n",
       "  display: inline;\n",
       "  margin-top: 0;\n",
       "  margin-bottom: 0;\n",
       "}\n",
       "\n",
       ".xr-obj-type,\n",
       ".xr-array-name {\n",
       "  margin-left: 2px;\n",
       "  margin-right: 10px;\n",
       "}\n",
       "\n",
       ".xr-obj-type {\n",
       "  color: var(--xr-font-color2);\n",
       "}\n",
       "\n",
       ".xr-sections {\n",
       "  padding-left: 0 !important;\n",
       "  display: grid;\n",
       "  grid-template-columns: 150px auto auto 1fr 20px 20px;\n",
       "}\n",
       "\n",
       ".xr-section-item {\n",
       "  display: contents;\n",
       "}\n",
       "\n",
       ".xr-section-item input {\n",
       "  display: none;\n",
       "}\n",
       "\n",
       ".xr-section-item input + label {\n",
       "  color: var(--xr-disabled-color);\n",
       "}\n",
       "\n",
       ".xr-section-item input:enabled + label {\n",
       "  cursor: pointer;\n",
       "  color: var(--xr-font-color2);\n",
       "}\n",
       "\n",
       ".xr-section-item input:enabled + label:hover {\n",
       "  color: var(--xr-font-color0);\n",
       "}\n",
       "\n",
       ".xr-section-summary {\n",
       "  grid-column: 1;\n",
       "  color: var(--xr-font-color2);\n",
       "  font-weight: 500;\n",
       "}\n",
       "\n",
       ".xr-section-summary > span {\n",
       "  display: inline-block;\n",
       "  padding-left: 0.5em;\n",
       "}\n",
       "\n",
       ".xr-section-summary-in:disabled + label {\n",
       "  color: var(--xr-font-color2);\n",
       "}\n",
       "\n",
       ".xr-section-summary-in + label:before {\n",
       "  display: inline-block;\n",
       "  content: '►';\n",
       "  font-size: 11px;\n",
       "  width: 15px;\n",
       "  text-align: center;\n",
       "}\n",
       "\n",
       ".xr-section-summary-in:disabled + label:before {\n",
       "  color: var(--xr-disabled-color);\n",
       "}\n",
       "\n",
       ".xr-section-summary-in:checked + label:before {\n",
       "  content: '▼';\n",
       "}\n",
       "\n",
       ".xr-section-summary-in:checked + label > span {\n",
       "  display: none;\n",
       "}\n",
       "\n",
       ".xr-section-summary,\n",
       ".xr-section-inline-details {\n",
       "  padding-top: 4px;\n",
       "  padding-bottom: 4px;\n",
       "}\n",
       "\n",
       ".xr-section-inline-details {\n",
       "  grid-column: 2 / -1;\n",
       "}\n",
       "\n",
       ".xr-section-details {\n",
       "  display: none;\n",
       "  grid-column: 1 / -1;\n",
       "  margin-bottom: 5px;\n",
       "}\n",
       "\n",
       ".xr-section-summary-in:checked ~ .xr-section-details {\n",
       "  display: contents;\n",
       "}\n",
       "\n",
       ".xr-array-wrap {\n",
       "  grid-column: 1 / -1;\n",
       "  display: grid;\n",
       "  grid-template-columns: 20px auto;\n",
       "}\n",
       "\n",
       ".xr-array-wrap > label {\n",
       "  grid-column: 1;\n",
       "  vertical-align: top;\n",
       "}\n",
       "\n",
       ".xr-preview {\n",
       "  color: var(--xr-font-color3);\n",
       "}\n",
       "\n",
       ".xr-array-preview,\n",
       ".xr-array-data {\n",
       "  padding: 0 5px !important;\n",
       "  grid-column: 2;\n",
       "}\n",
       "\n",
       ".xr-array-data,\n",
       ".xr-array-in:checked ~ .xr-array-preview {\n",
       "  display: none;\n",
       "}\n",
       "\n",
       ".xr-array-in:checked ~ .xr-array-data,\n",
       ".xr-array-preview {\n",
       "  display: inline-block;\n",
       "}\n",
       "\n",
       ".xr-dim-list {\n",
       "  display: inline-block !important;\n",
       "  list-style: none;\n",
       "  padding: 0 !important;\n",
       "  margin: 0;\n",
       "}\n",
       "\n",
       ".xr-dim-list li {\n",
       "  display: inline-block;\n",
       "  padding: 0;\n",
       "  margin: 0;\n",
       "}\n",
       "\n",
       ".xr-dim-list:before {\n",
       "  content: '(';\n",
       "}\n",
       "\n",
       ".xr-dim-list:after {\n",
       "  content: ')';\n",
       "}\n",
       "\n",
       ".xr-dim-list li:not(:last-child):after {\n",
       "  content: ',';\n",
       "  padding-right: 5px;\n",
       "}\n",
       "\n",
       ".xr-has-index {\n",
       "  font-weight: bold;\n",
       "}\n",
       "\n",
       ".xr-var-list,\n",
       ".xr-var-item {\n",
       "  display: contents;\n",
       "}\n",
       "\n",
       ".xr-var-item > div,\n",
       ".xr-var-item label,\n",
       ".xr-var-item > .xr-var-name span {\n",
       "  background-color: var(--xr-background-color-row-even);\n",
       "  margin-bottom: 0;\n",
       "}\n",
       "\n",
       ".xr-var-item > .xr-var-name:hover span {\n",
       "  padding-right: 5px;\n",
       "}\n",
       "\n",
       ".xr-var-list > li:nth-child(odd) > div,\n",
       ".xr-var-list > li:nth-child(odd) > label,\n",
       ".xr-var-list > li:nth-child(odd) > .xr-var-name span {\n",
       "  background-color: var(--xr-background-color-row-odd);\n",
       "}\n",
       "\n",
       ".xr-var-name {\n",
       "  grid-column: 1;\n",
       "}\n",
       "\n",
       ".xr-var-dims {\n",
       "  grid-column: 2;\n",
       "}\n",
       "\n",
       ".xr-var-dtype {\n",
       "  grid-column: 3;\n",
       "  text-align: right;\n",
       "  color: var(--xr-font-color2);\n",
       "}\n",
       "\n",
       ".xr-var-preview {\n",
       "  grid-column: 4;\n",
       "}\n",
       "\n",
       ".xr-var-name,\n",
       ".xr-var-dims,\n",
       ".xr-var-dtype,\n",
       ".xr-preview,\n",
       ".xr-attrs dt {\n",
       "  white-space: nowrap;\n",
       "  overflow: hidden;\n",
       "  text-overflow: ellipsis;\n",
       "  padding-right: 10px;\n",
       "}\n",
       "\n",
       ".xr-var-name:hover,\n",
       ".xr-var-dims:hover,\n",
       ".xr-var-dtype:hover,\n",
       ".xr-attrs dt:hover {\n",
       "  overflow: visible;\n",
       "  width: auto;\n",
       "  z-index: 1;\n",
       "}\n",
       "\n",
       ".xr-var-attrs,\n",
       ".xr-var-data {\n",
       "  display: none;\n",
       "  background-color: var(--xr-background-color) !important;\n",
       "  padding-bottom: 5px !important;\n",
       "}\n",
       "\n",
       ".xr-var-attrs-in:checked ~ .xr-var-attrs,\n",
       ".xr-var-data-in:checked ~ .xr-var-data {\n",
       "  display: block;\n",
       "}\n",
       "\n",
       ".xr-var-data > table {\n",
       "  float: right;\n",
       "}\n",
       "\n",
       ".xr-var-name span,\n",
       ".xr-var-data,\n",
       ".xr-attrs {\n",
       "  padding-left: 25px !important;\n",
       "}\n",
       "\n",
       ".xr-attrs,\n",
       ".xr-var-attrs,\n",
       ".xr-var-data {\n",
       "  grid-column: 1 / -1;\n",
       "}\n",
       "\n",
       "dl.xr-attrs {\n",
       "  padding: 0;\n",
       "  margin: 0;\n",
       "  display: grid;\n",
       "  grid-template-columns: 125px auto;\n",
       "}\n",
       "\n",
       ".xr-attrs dt,\n",
       ".xr-attrs dd {\n",
       "  padding: 0;\n",
       "  margin: 0;\n",
       "  float: left;\n",
       "  padding-right: 10px;\n",
       "  width: auto;\n",
       "}\n",
       "\n",
       ".xr-attrs dt {\n",
       "  font-weight: normal;\n",
       "  grid-column: 1;\n",
       "}\n",
       "\n",
       ".xr-attrs dt:hover span {\n",
       "  display: inline-block;\n",
       "  background: var(--xr-background-color);\n",
       "  padding-right: 10px;\n",
       "}\n",
       "\n",
       ".xr-attrs dd {\n",
       "  grid-column: 2;\n",
       "  white-space: pre-wrap;\n",
       "  word-break: break-all;\n",
       "}\n",
       "\n",
       ".xr-icon-database,\n",
       ".xr-icon-file-text2 {\n",
       "  display: inline-block;\n",
       "  vertical-align: middle;\n",
       "  width: 1em;\n",
       "  height: 1.5em !important;\n",
       "  stroke-width: 0;\n",
       "  stroke: currentColor;\n",
       "  fill: currentColor;\n",
       "}\n",
       "</style><pre class='xr-text-repr-fallback'>&lt;xarray.Dataset&gt;\n",
       "Dimensions:  (i: 2160, j: 2160, time: 10)\n",
       "Coordinates:\n",
       "    niter    int64 0\n",
       "    x0       (i) float64 -15.49 -15.47 -15.45 -15.43 ... 29.43 29.45 29.47 29.49\n",
       "    y0       (j) float64 -57.0 -56.99 -56.98 -56.97 ... -26.69 -26.68 -26.66\n",
       "    z0       float64 -0.5\n",
       "  * time     (time) int64 0 3600 7200 10800 14400 18000 21600 25200 28800 32400\n",
       "Dimensions without coordinates: i, j\n",
       "Data variables:\n",
       "    u        (time, i, j) float64 dask.array&lt;chunksize=(1, 180, 180), meta=np.ndarray&gt;\n",
       "    v        (time, i, j) float64 dask.array&lt;chunksize=(1, 180, 180), meta=np.ndarray&gt;</pre><div class='xr-wrap' hidden><div class='xr-header'><div class='xr-obj-type'>xarray.Dataset</div></div><ul class='xr-sections'><li class='xr-section-item'><input id='section-29fdf1ed-3d83-42a2-9c8c-97e123c44325' class='xr-section-summary-in' type='checkbox' disabled ><label for='section-29fdf1ed-3d83-42a2-9c8c-97e123c44325' class='xr-section-summary'  title='Expand/collapse section'>Dimensions:</label><div class='xr-section-inline-details'><ul class='xr-dim-list'><li><span>i</span>: 2160</li><li><span>j</span>: 2160</li><li><span class='xr-has-index'>time</span>: 10</li></ul></div><div class='xr-section-details'></div></li><li class='xr-section-item'><input id='section-66c365ca-7bc7-442d-92f0-1a9242a2e70b' class='xr-section-summary-in' type='checkbox'  checked><label for='section-66c365ca-7bc7-442d-92f0-1a9242a2e70b' class='xr-section-summary' >Coordinates: <span>(5)</span></label><div class='xr-section-inline-details'></div><div class='xr-section-details'><ul class='xr-var-list'><li class='xr-var-item'><div class='xr-var-name'><span>niter</span></div><div class='xr-var-dims'>()</div><div class='xr-var-dtype'>int64</div><div class='xr-var-preview xr-preview'>0</div><input id='attrs-6e35682d-a586-4d28-9271-70b9414a728b' class='xr-var-attrs-in' type='checkbox' disabled><label for='attrs-6e35682d-a586-4d28-9271-70b9414a728b' title='Show/Hide attributes'><svg class='icon xr-icon-file-text2'><use xlink:href='#icon-file-text2'></use></svg></label><input id='data-b23fcd12-db3f-4b46-aacf-b6a34b41b4b1' class='xr-var-data-in' type='checkbox'><label for='data-b23fcd12-db3f-4b46-aacf-b6a34b41b4b1' title='Show/Hide data repr'><svg class='icon xr-icon-database'><use xlink:href='#icon-database'></use></svg></label><div class='xr-var-attrs'><dl class='xr-attrs'></dl></div><div class='xr-var-data'><pre>array(0)</pre></div></li><li class='xr-var-item'><div class='xr-var-name'><span>x0</span></div><div class='xr-var-dims'>(i)</div><div class='xr-var-dtype'>float64</div><div class='xr-var-preview xr-preview'>-15.49 -15.47 ... 29.47 29.49</div><input id='attrs-b049ab90-325a-4708-902c-72c33452964f' class='xr-var-attrs-in' type='checkbox' ><label for='attrs-b049ab90-325a-4708-902c-72c33452964f' title='Show/Hide attributes'><svg class='icon xr-icon-file-text2'><use xlink:href='#icon-file-text2'></use></svg></label><input id='data-a7b313ba-1e95-446c-8784-a80aeb629c9e' class='xr-var-data-in' type='checkbox'><label for='data-a7b313ba-1e95-446c-8784-a80aeb629c9e' title='Show/Hide data repr'><svg class='icon xr-icon-database'><use xlink:href='#icon-database'></use></svg></label><div class='xr-var-attrs'><dl class='xr-attrs'><dt><span>units :</span></dt><dd>longitude</dd></dl></div><div class='xr-var-data'><pre>array([-15.489583, -15.468749, -15.447916, ...,  29.447916,  29.468748,\n",
       "        29.489582])</pre></div></li><li class='xr-var-item'><div class='xr-var-name'><span>y0</span></div><div class='xr-var-dims'>(j)</div><div class='xr-var-dtype'>float64</div><div class='xr-var-preview xr-preview'>-57.0 -56.99 ... -26.68 -26.66</div><input id='attrs-c368887b-e08f-4cd6-81e7-5428abb09084' class='xr-var-attrs-in' type='checkbox' ><label for='attrs-c368887b-e08f-4cd6-81e7-5428abb09084' title='Show/Hide attributes'><svg class='icon xr-icon-file-text2'><use xlink:href='#icon-file-text2'></use></svg></label><input id='data-57534e1a-487d-4f1d-b048-8143e84e6402' class='xr-var-data-in' type='checkbox'><label for='data-57534e1a-487d-4f1d-b048-8143e84e6402' title='Show/Hide data repr'><svg class='icon xr-icon-database'><use xlink:href='#icon-database'></use></svg></label><div class='xr-var-attrs'><dl class='xr-attrs'><dt><span>long_name :</span></dt><dd>latitude</dd></dl></div><div class='xr-var-data'><pre>array([-57.001026, -56.989956, -56.978886, ..., -26.694199, -26.677086,\n",
       "       -26.659971])</pre></div></li><li class='xr-var-item'><div class='xr-var-name'><span>z0</span></div><div class='xr-var-dims'>()</div><div class='xr-var-dtype'>float64</div><div class='xr-var-preview xr-preview'>-0.5</div><input id='attrs-0381551f-5029-4165-81bc-0f7b0fb98c36' class='xr-var-attrs-in' type='checkbox' disabled><label for='attrs-0381551f-5029-4165-81bc-0f7b0fb98c36' title='Show/Hide attributes'><svg class='icon xr-icon-file-text2'><use xlink:href='#icon-file-text2'></use></svg></label><input id='data-54d64d31-4097-4576-a588-ff644db9813e' class='xr-var-data-in' type='checkbox'><label for='data-54d64d31-4097-4576-a588-ff644db9813e' title='Show/Hide data repr'><svg class='icon xr-icon-database'><use xlink:href='#icon-database'></use></svg></label><div class='xr-var-attrs'><dl class='xr-attrs'></dl></div><div class='xr-var-data'><pre>array(-0.5)</pre></div></li><li class='xr-var-item'><div class='xr-var-name'><span class='xr-has-index'>time</span></div><div class='xr-var-dims'>(time)</div><div class='xr-var-dtype'>int64</div><div class='xr-var-preview xr-preview'>0 3600 7200 ... 25200 28800 32400</div><input id='attrs-15e3dfdc-103e-4a5c-930c-127f6987ea6a' class='xr-var-attrs-in' type='checkbox' ><label for='attrs-15e3dfdc-103e-4a5c-930c-127f6987ea6a' title='Show/Hide attributes'><svg class='icon xr-icon-file-text2'><use xlink:href='#icon-file-text2'></use></svg></label><input id='data-219147d3-9e0f-411a-b1f0-8ef623f2b5f1' class='xr-var-data-in' type='checkbox'><label for='data-219147d3-9e0f-411a-b1f0-8ef623f2b5f1' title='Show/Hide data repr'><svg class='icon xr-icon-database'><use xlink:href='#icon-database'></use></svg></label><div class='xr-var-attrs'><dl class='xr-attrs'><dt><span>units :</span></dt><dd>time in seconds</dd></dl></div><div class='xr-var-data'><pre>array([    0,  3600,  7200, 10800, 14400, 18000, 21600, 25200, 28800, 32400])</pre></div></li></ul></div></li><li class='xr-section-item'><input id='section-0724b236-3e49-4063-b266-f44598be9098' class='xr-section-summary-in' type='checkbox'  checked><label for='section-0724b236-3e49-4063-b266-f44598be9098' class='xr-section-summary' >Data variables: <span>(2)</span></label><div class='xr-section-inline-details'></div><div class='xr-section-details'><ul class='xr-var-list'><li class='xr-var-item'><div class='xr-var-name'><span>u</span></div><div class='xr-var-dims'>(time, i, j)</div><div class='xr-var-dtype'>float64</div><div class='xr-var-preview xr-preview'>dask.array&lt;chunksize=(1, 180, 180), meta=np.ndarray&gt;</div><input id='attrs-a0919dbf-21c9-4fbb-9158-b96cd82edf19' class='xr-var-attrs-in' type='checkbox' ><label for='attrs-a0919dbf-21c9-4fbb-9158-b96cd82edf19' title='Show/Hide attributes'><svg class='icon xr-icon-file-text2'><use xlink:href='#icon-file-text2'></use></svg></label><input id='data-cc90afe9-1fc3-4497-9e10-8ffef82b852d' class='xr-var-data-in' type='checkbox'><label for='data-cc90afe9-1fc3-4497-9e10-8ffef82b852d' title='Show/Hide data repr'><svg class='icon xr-icon-database'><use xlink:href='#icon-database'></use></svg></label><div class='xr-var-attrs'><dl class='xr-attrs'><dt><span>units :</span></dt><dd>m/s</dd></dl></div><div class='xr-var-data'><table>\n",
       "<tr>\n",
       "<td>\n",
       "<table>\n",
       "  <thead>\n",
       "    <tr><td> </td><th> Array </th><th> Chunk </th></tr>\n",
       "  </thead>\n",
       "  <tbody>\n",
       "    <tr><th> Bytes </th><td> 355.96 MiB </td> <td> 253.12 kiB </td></tr>\n",
       "    <tr><th> Shape </th><td> (10, 2160, 2160) </td> <td> (1, 180, 180) </td></tr>\n",
       "    <tr><th> Count </th><td> 623981 Tasks </td><td> 1440 Chunks </td></tr>\n",
       "    <tr><th> Type </th><td> float64 </td><td> numpy.ndarray </td></tr>\n",
       "  </tbody>\n",
       "</table>\n",
       "</td>\n",
       "<td>\n",
       "<svg width=\"194\" height=\"184\" style=\"stroke:rgb(0,0,0);stroke-width:1\" >\n",
       "\n",
       "  <!-- Horizontal lines -->\n",
       "  <line x1=\"10\" y1=\"0\" x2=\"24\" y2=\"14\" style=\"stroke-width:2\" />\n",
       "  <line x1=\"10\" y1=\"10\" x2=\"24\" y2=\"24\" />\n",
       "  <line x1=\"10\" y1=\"20\" x2=\"24\" y2=\"34\" />\n",
       "  <line x1=\"10\" y1=\"30\" x2=\"24\" y2=\"44\" />\n",
       "  <line x1=\"10\" y1=\"40\" x2=\"24\" y2=\"54\" />\n",
       "  <line x1=\"10\" y1=\"50\" x2=\"24\" y2=\"64\" />\n",
       "  <line x1=\"10\" y1=\"60\" x2=\"24\" y2=\"74\" />\n",
       "  <line x1=\"10\" y1=\"70\" x2=\"24\" y2=\"84\" />\n",
       "  <line x1=\"10\" y1=\"80\" x2=\"24\" y2=\"94\" />\n",
       "  <line x1=\"10\" y1=\"90\" x2=\"24\" y2=\"104\" />\n",
       "  <line x1=\"10\" y1=\"100\" x2=\"24\" y2=\"114\" />\n",
       "  <line x1=\"10\" y1=\"110\" x2=\"24\" y2=\"124\" />\n",
       "  <line x1=\"10\" y1=\"120\" x2=\"24\" y2=\"134\" style=\"stroke-width:2\" />\n",
       "\n",
       "  <!-- Vertical lines -->\n",
       "  <line x1=\"10\" y1=\"0\" x2=\"10\" y2=\"120\" style=\"stroke-width:2\" />\n",
       "  <line x1=\"11\" y1=\"1\" x2=\"11\" y2=\"121\" />\n",
       "  <line x1=\"12\" y1=\"2\" x2=\"12\" y2=\"122\" />\n",
       "  <line x1=\"14\" y1=\"4\" x2=\"14\" y2=\"124\" />\n",
       "  <line x1=\"15\" y1=\"5\" x2=\"15\" y2=\"125\" />\n",
       "  <line x1=\"17\" y1=\"7\" x2=\"17\" y2=\"127\" />\n",
       "  <line x1=\"18\" y1=\"8\" x2=\"18\" y2=\"128\" />\n",
       "  <line x1=\"20\" y1=\"10\" x2=\"20\" y2=\"130\" />\n",
       "  <line x1=\"21\" y1=\"11\" x2=\"21\" y2=\"131\" />\n",
       "  <line x1=\"23\" y1=\"13\" x2=\"23\" y2=\"133\" />\n",
       "  <line x1=\"24\" y1=\"14\" x2=\"24\" y2=\"134\" style=\"stroke-width:2\" />\n",
       "\n",
       "  <!-- Colored Rectangle -->\n",
       "  <polygon points=\"10.0,0.0 24.9485979497544,14.948597949754403 24.9485979497544,134.9485979497544 10.0,120.0\" style=\"fill:#ECB172A0;stroke-width:0\"/>\n",
       "\n",
       "  <!-- Horizontal lines -->\n",
       "  <line x1=\"10\" y1=\"0\" x2=\"130\" y2=\"0\" style=\"stroke-width:2\" />\n",
       "  <line x1=\"11\" y1=\"1\" x2=\"131\" y2=\"1\" />\n",
       "  <line x1=\"12\" y1=\"2\" x2=\"132\" y2=\"2\" />\n",
       "  <line x1=\"14\" y1=\"4\" x2=\"134\" y2=\"4\" />\n",
       "  <line x1=\"15\" y1=\"5\" x2=\"135\" y2=\"5\" />\n",
       "  <line x1=\"17\" y1=\"7\" x2=\"137\" y2=\"7\" />\n",
       "  <line x1=\"18\" y1=\"8\" x2=\"138\" y2=\"8\" />\n",
       "  <line x1=\"20\" y1=\"10\" x2=\"140\" y2=\"10\" />\n",
       "  <line x1=\"21\" y1=\"11\" x2=\"141\" y2=\"11\" />\n",
       "  <line x1=\"23\" y1=\"13\" x2=\"143\" y2=\"13\" />\n",
       "  <line x1=\"24\" y1=\"14\" x2=\"144\" y2=\"14\" style=\"stroke-width:2\" />\n",
       "\n",
       "  <!-- Vertical lines -->\n",
       "  <line x1=\"10\" y1=\"0\" x2=\"24\" y2=\"14\" style=\"stroke-width:2\" />\n",
       "  <line x1=\"20\" y1=\"0\" x2=\"34\" y2=\"14\" />\n",
       "  <line x1=\"30\" y1=\"0\" x2=\"44\" y2=\"14\" />\n",
       "  <line x1=\"40\" y1=\"0\" x2=\"54\" y2=\"14\" />\n",
       "  <line x1=\"50\" y1=\"0\" x2=\"64\" y2=\"14\" />\n",
       "  <line x1=\"60\" y1=\"0\" x2=\"74\" y2=\"14\" />\n",
       "  <line x1=\"70\" y1=\"0\" x2=\"84\" y2=\"14\" />\n",
       "  <line x1=\"80\" y1=\"0\" x2=\"94\" y2=\"14\" />\n",
       "  <line x1=\"90\" y1=\"0\" x2=\"104\" y2=\"14\" />\n",
       "  <line x1=\"100\" y1=\"0\" x2=\"114\" y2=\"14\" />\n",
       "  <line x1=\"110\" y1=\"0\" x2=\"124\" y2=\"14\" />\n",
       "  <line x1=\"120\" y1=\"0\" x2=\"134\" y2=\"14\" />\n",
       "  <line x1=\"130\" y1=\"0\" x2=\"144\" y2=\"14\" style=\"stroke-width:2\" />\n",
       "\n",
       "  <!-- Colored Rectangle -->\n",
       "  <polygon points=\"10.0,0.0 130.0,0.0 144.9485979497544,14.948597949754403 24.9485979497544,14.948597949754403\" style=\"fill:#ECB172A0;stroke-width:0\"/>\n",
       "\n",
       "  <!-- Horizontal lines -->\n",
       "  <line x1=\"24\" y1=\"14\" x2=\"144\" y2=\"14\" style=\"stroke-width:2\" />\n",
       "  <line x1=\"24\" y1=\"24\" x2=\"144\" y2=\"24\" />\n",
       "  <line x1=\"24\" y1=\"34\" x2=\"144\" y2=\"34\" />\n",
       "  <line x1=\"24\" y1=\"44\" x2=\"144\" y2=\"44\" />\n",
       "  <line x1=\"24\" y1=\"54\" x2=\"144\" y2=\"54\" />\n",
       "  <line x1=\"24\" y1=\"64\" x2=\"144\" y2=\"64\" />\n",
       "  <line x1=\"24\" y1=\"74\" x2=\"144\" y2=\"74\" />\n",
       "  <line x1=\"24\" y1=\"84\" x2=\"144\" y2=\"84\" />\n",
       "  <line x1=\"24\" y1=\"94\" x2=\"144\" y2=\"94\" />\n",
       "  <line x1=\"24\" y1=\"104\" x2=\"144\" y2=\"104\" />\n",
       "  <line x1=\"24\" y1=\"114\" x2=\"144\" y2=\"114\" />\n",
       "  <line x1=\"24\" y1=\"124\" x2=\"144\" y2=\"124\" />\n",
       "  <line x1=\"24\" y1=\"134\" x2=\"144\" y2=\"134\" style=\"stroke-width:2\" />\n",
       "\n",
       "  <!-- Vertical lines -->\n",
       "  <line x1=\"24\" y1=\"14\" x2=\"24\" y2=\"134\" style=\"stroke-width:2\" />\n",
       "  <line x1=\"34\" y1=\"14\" x2=\"34\" y2=\"134\" />\n",
       "  <line x1=\"44\" y1=\"14\" x2=\"44\" y2=\"134\" />\n",
       "  <line x1=\"54\" y1=\"14\" x2=\"54\" y2=\"134\" />\n",
       "  <line x1=\"64\" y1=\"14\" x2=\"64\" y2=\"134\" />\n",
       "  <line x1=\"74\" y1=\"14\" x2=\"74\" y2=\"134\" />\n",
       "  <line x1=\"84\" y1=\"14\" x2=\"84\" y2=\"134\" />\n",
       "  <line x1=\"94\" y1=\"14\" x2=\"94\" y2=\"134\" />\n",
       "  <line x1=\"104\" y1=\"14\" x2=\"104\" y2=\"134\" />\n",
       "  <line x1=\"114\" y1=\"14\" x2=\"114\" y2=\"134\" />\n",
       "  <line x1=\"124\" y1=\"14\" x2=\"124\" y2=\"134\" />\n",
       "  <line x1=\"134\" y1=\"14\" x2=\"134\" y2=\"134\" />\n",
       "  <line x1=\"144\" y1=\"14\" x2=\"144\" y2=\"134\" style=\"stroke-width:2\" />\n",
       "\n",
       "  <!-- Colored Rectangle -->\n",
       "  <polygon points=\"24.9485979497544,14.948597949754403 144.9485979497544,14.948597949754403 144.9485979497544,134.9485979497544 24.9485979497544,134.9485979497544\" style=\"fill:#ECB172A0;stroke-width:0\"/>\n",
       "\n",
       "  <!-- Text -->\n",
       "  <text x=\"84.948598\" y=\"154.948598\" font-size=\"1.0rem\" font-weight=\"100\" text-anchor=\"middle\" >2160</text>\n",
       "  <text x=\"164.948598\" y=\"74.948598\" font-size=\"1.0rem\" font-weight=\"100\" text-anchor=\"middle\" transform=\"rotate(-90,164.948598,74.948598)\">2160</text>\n",
       "  <text x=\"7.474299\" y=\"147.474299\" font-size=\"1.0rem\" font-weight=\"100\" text-anchor=\"middle\" transform=\"rotate(45,7.474299,147.474299)\">10</text>\n",
       "</svg>\n",
       "</td>\n",
       "</tr>\n",
       "</table></div></li><li class='xr-var-item'><div class='xr-var-name'><span>v</span></div><div class='xr-var-dims'>(time, i, j)</div><div class='xr-var-dtype'>float64</div><div class='xr-var-preview xr-preview'>dask.array&lt;chunksize=(1, 180, 180), meta=np.ndarray&gt;</div><input id='attrs-f27beb39-6897-4d69-aad4-ef3a8c3df96f' class='xr-var-attrs-in' type='checkbox' ><label for='attrs-f27beb39-6897-4d69-aad4-ef3a8c3df96f' title='Show/Hide attributes'><svg class='icon xr-icon-file-text2'><use xlink:href='#icon-file-text2'></use></svg></label><input id='data-9c8a36ff-43a9-4865-ab6c-22b08847a1ca' class='xr-var-data-in' type='checkbox'><label for='data-9c8a36ff-43a9-4865-ab6c-22b08847a1ca' title='Show/Hide data repr'><svg class='icon xr-icon-database'><use xlink:href='#icon-database'></use></svg></label><div class='xr-var-attrs'><dl class='xr-attrs'><dt><span>units :</span></dt><dd>m/s</dd></dl></div><div class='xr-var-data'><table>\n",
       "<tr>\n",
       "<td>\n",
       "<table>\n",
       "  <thead>\n",
       "    <tr><td> </td><th> Array </th><th> Chunk </th></tr>\n",
       "  </thead>\n",
       "  <tbody>\n",
       "    <tr><th> Bytes </th><td> 355.96 MiB </td> <td> 253.12 kiB </td></tr>\n",
       "    <tr><th> Shape </th><td> (10, 2160, 2160) </td> <td> (1, 180, 180) </td></tr>\n",
       "    <tr><th> Count </th><td> 635511 Tasks </td><td> 1440 Chunks </td></tr>\n",
       "    <tr><th> Type </th><td> float64 </td><td> numpy.ndarray </td></tr>\n",
       "  </tbody>\n",
       "</table>\n",
       "</td>\n",
       "<td>\n",
       "<svg width=\"194\" height=\"184\" style=\"stroke:rgb(0,0,0);stroke-width:1\" >\n",
       "\n",
       "  <!-- Horizontal lines -->\n",
       "  <line x1=\"10\" y1=\"0\" x2=\"24\" y2=\"14\" style=\"stroke-width:2\" />\n",
       "  <line x1=\"10\" y1=\"10\" x2=\"24\" y2=\"24\" />\n",
       "  <line x1=\"10\" y1=\"20\" x2=\"24\" y2=\"34\" />\n",
       "  <line x1=\"10\" y1=\"30\" x2=\"24\" y2=\"44\" />\n",
       "  <line x1=\"10\" y1=\"40\" x2=\"24\" y2=\"54\" />\n",
       "  <line x1=\"10\" y1=\"50\" x2=\"24\" y2=\"64\" />\n",
       "  <line x1=\"10\" y1=\"60\" x2=\"24\" y2=\"74\" />\n",
       "  <line x1=\"10\" y1=\"70\" x2=\"24\" y2=\"84\" />\n",
       "  <line x1=\"10\" y1=\"80\" x2=\"24\" y2=\"94\" />\n",
       "  <line x1=\"10\" y1=\"90\" x2=\"24\" y2=\"104\" />\n",
       "  <line x1=\"10\" y1=\"100\" x2=\"24\" y2=\"114\" />\n",
       "  <line x1=\"10\" y1=\"110\" x2=\"24\" y2=\"124\" />\n",
       "  <line x1=\"10\" y1=\"120\" x2=\"24\" y2=\"134\" style=\"stroke-width:2\" />\n",
       "\n",
       "  <!-- Vertical lines -->\n",
       "  <line x1=\"10\" y1=\"0\" x2=\"10\" y2=\"120\" style=\"stroke-width:2\" />\n",
       "  <line x1=\"11\" y1=\"1\" x2=\"11\" y2=\"121\" />\n",
       "  <line x1=\"12\" y1=\"2\" x2=\"12\" y2=\"122\" />\n",
       "  <line x1=\"14\" y1=\"4\" x2=\"14\" y2=\"124\" />\n",
       "  <line x1=\"15\" y1=\"5\" x2=\"15\" y2=\"125\" />\n",
       "  <line x1=\"17\" y1=\"7\" x2=\"17\" y2=\"127\" />\n",
       "  <line x1=\"18\" y1=\"8\" x2=\"18\" y2=\"128\" />\n",
       "  <line x1=\"20\" y1=\"10\" x2=\"20\" y2=\"130\" />\n",
       "  <line x1=\"21\" y1=\"11\" x2=\"21\" y2=\"131\" />\n",
       "  <line x1=\"23\" y1=\"13\" x2=\"23\" y2=\"133\" />\n",
       "  <line x1=\"24\" y1=\"14\" x2=\"24\" y2=\"134\" style=\"stroke-width:2\" />\n",
       "\n",
       "  <!-- Colored Rectangle -->\n",
       "  <polygon points=\"10.0,0.0 24.9485979497544,14.948597949754403 24.9485979497544,134.9485979497544 10.0,120.0\" style=\"fill:#ECB172A0;stroke-width:0\"/>\n",
       "\n",
       "  <!-- Horizontal lines -->\n",
       "  <line x1=\"10\" y1=\"0\" x2=\"130\" y2=\"0\" style=\"stroke-width:2\" />\n",
       "  <line x1=\"11\" y1=\"1\" x2=\"131\" y2=\"1\" />\n",
       "  <line x1=\"12\" y1=\"2\" x2=\"132\" y2=\"2\" />\n",
       "  <line x1=\"14\" y1=\"4\" x2=\"134\" y2=\"4\" />\n",
       "  <line x1=\"15\" y1=\"5\" x2=\"135\" y2=\"5\" />\n",
       "  <line x1=\"17\" y1=\"7\" x2=\"137\" y2=\"7\" />\n",
       "  <line x1=\"18\" y1=\"8\" x2=\"138\" y2=\"8\" />\n",
       "  <line x1=\"20\" y1=\"10\" x2=\"140\" y2=\"10\" />\n",
       "  <line x1=\"21\" y1=\"11\" x2=\"141\" y2=\"11\" />\n",
       "  <line x1=\"23\" y1=\"13\" x2=\"143\" y2=\"13\" />\n",
       "  <line x1=\"24\" y1=\"14\" x2=\"144\" y2=\"14\" style=\"stroke-width:2\" />\n",
       "\n",
       "  <!-- Vertical lines -->\n",
       "  <line x1=\"10\" y1=\"0\" x2=\"24\" y2=\"14\" style=\"stroke-width:2\" />\n",
       "  <line x1=\"20\" y1=\"0\" x2=\"34\" y2=\"14\" />\n",
       "  <line x1=\"30\" y1=\"0\" x2=\"44\" y2=\"14\" />\n",
       "  <line x1=\"40\" y1=\"0\" x2=\"54\" y2=\"14\" />\n",
       "  <line x1=\"50\" y1=\"0\" x2=\"64\" y2=\"14\" />\n",
       "  <line x1=\"60\" y1=\"0\" x2=\"74\" y2=\"14\" />\n",
       "  <line x1=\"70\" y1=\"0\" x2=\"84\" y2=\"14\" />\n",
       "  <line x1=\"80\" y1=\"0\" x2=\"94\" y2=\"14\" />\n",
       "  <line x1=\"90\" y1=\"0\" x2=\"104\" y2=\"14\" />\n",
       "  <line x1=\"100\" y1=\"0\" x2=\"114\" y2=\"14\" />\n",
       "  <line x1=\"110\" y1=\"0\" x2=\"124\" y2=\"14\" />\n",
       "  <line x1=\"120\" y1=\"0\" x2=\"134\" y2=\"14\" />\n",
       "  <line x1=\"130\" y1=\"0\" x2=\"144\" y2=\"14\" style=\"stroke-width:2\" />\n",
       "\n",
       "  <!-- Colored Rectangle -->\n",
       "  <polygon points=\"10.0,0.0 130.0,0.0 144.9485979497544,14.948597949754403 24.9485979497544,14.948597949754403\" style=\"fill:#ECB172A0;stroke-width:0\"/>\n",
       "\n",
       "  <!-- Horizontal lines -->\n",
       "  <line x1=\"24\" y1=\"14\" x2=\"144\" y2=\"14\" style=\"stroke-width:2\" />\n",
       "  <line x1=\"24\" y1=\"24\" x2=\"144\" y2=\"24\" />\n",
       "  <line x1=\"24\" y1=\"34\" x2=\"144\" y2=\"34\" />\n",
       "  <line x1=\"24\" y1=\"44\" x2=\"144\" y2=\"44\" />\n",
       "  <line x1=\"24\" y1=\"54\" x2=\"144\" y2=\"54\" />\n",
       "  <line x1=\"24\" y1=\"64\" x2=\"144\" y2=\"64\" />\n",
       "  <line x1=\"24\" y1=\"74\" x2=\"144\" y2=\"74\" />\n",
       "  <line x1=\"24\" y1=\"84\" x2=\"144\" y2=\"84\" />\n",
       "  <line x1=\"24\" y1=\"94\" x2=\"144\" y2=\"94\" />\n",
       "  <line x1=\"24\" y1=\"104\" x2=\"144\" y2=\"104\" />\n",
       "  <line x1=\"24\" y1=\"114\" x2=\"144\" y2=\"114\" />\n",
       "  <line x1=\"24\" y1=\"124\" x2=\"144\" y2=\"124\" />\n",
       "  <line x1=\"24\" y1=\"134\" x2=\"144\" y2=\"134\" style=\"stroke-width:2\" />\n",
       "\n",
       "  <!-- Vertical lines -->\n",
       "  <line x1=\"24\" y1=\"14\" x2=\"24\" y2=\"134\" style=\"stroke-width:2\" />\n",
       "  <line x1=\"34\" y1=\"14\" x2=\"34\" y2=\"134\" />\n",
       "  <line x1=\"44\" y1=\"14\" x2=\"44\" y2=\"134\" />\n",
       "  <line x1=\"54\" y1=\"14\" x2=\"54\" y2=\"134\" />\n",
       "  <line x1=\"64\" y1=\"14\" x2=\"64\" y2=\"134\" />\n",
       "  <line x1=\"74\" y1=\"14\" x2=\"74\" y2=\"134\" />\n",
       "  <line x1=\"84\" y1=\"14\" x2=\"84\" y2=\"134\" />\n",
       "  <line x1=\"94\" y1=\"14\" x2=\"94\" y2=\"134\" />\n",
       "  <line x1=\"104\" y1=\"14\" x2=\"104\" y2=\"134\" />\n",
       "  <line x1=\"114\" y1=\"14\" x2=\"114\" y2=\"134\" />\n",
       "  <line x1=\"124\" y1=\"14\" x2=\"124\" y2=\"134\" />\n",
       "  <line x1=\"134\" y1=\"14\" x2=\"134\" y2=\"134\" />\n",
       "  <line x1=\"144\" y1=\"14\" x2=\"144\" y2=\"134\" style=\"stroke-width:2\" />\n",
       "\n",
       "  <!-- Colored Rectangle -->\n",
       "  <polygon points=\"24.9485979497544,14.948597949754403 144.9485979497544,14.948597949754403 144.9485979497544,134.9485979497544 24.9485979497544,134.9485979497544\" style=\"fill:#ECB172A0;stroke-width:0\"/>\n",
       "\n",
       "  <!-- Text -->\n",
       "  <text x=\"84.948598\" y=\"154.948598\" font-size=\"1.0rem\" font-weight=\"100\" text-anchor=\"middle\" >2160</text>\n",
       "  <text x=\"164.948598\" y=\"74.948598\" font-size=\"1.0rem\" font-weight=\"100\" text-anchor=\"middle\" transform=\"rotate(-90,164.948598,74.948598)\">2160</text>\n",
       "  <text x=\"7.474299\" y=\"147.474299\" font-size=\"1.0rem\" font-weight=\"100\" text-anchor=\"middle\" transform=\"rotate(45,7.474299,147.474299)\">10</text>\n",
       "</svg>\n",
       "</td>\n",
       "</tr>\n",
       "</table></div></li></ul></div></li><li class='xr-section-item'><input id='section-46f3674a-0d64-43a3-a29e-ee717f667b4a' class='xr-section-summary-in' type='checkbox' disabled ><label for='section-46f3674a-0d64-43a3-a29e-ee717f667b4a' class='xr-section-summary'  title='Expand/collapse section'>Attributes: <span>(0)</span></label><div class='xr-section-inline-details'></div><div class='xr-section-details'><dl class='xr-attrs'></dl></div></li></ul></div></div>"
      ],
      "text/plain": [
       "<xarray.Dataset>\n",
       "Dimensions:  (i: 2160, j: 2160, time: 10)\n",
       "Coordinates:\n",
       "    niter    int64 0\n",
       "    x0       (i) float64 -15.49 -15.47 -15.45 -15.43 ... 29.43 29.45 29.47 29.49\n",
       "    y0       (j) float64 -57.0 -56.99 -56.98 -56.97 ... -26.69 -26.68 -26.66\n",
       "    z0       float64 -0.5\n",
       "  * time     (time) int64 0 3600 7200 10800 14400 18000 21600 25200 28800 32400\n",
       "Dimensions without coordinates: i, j\n",
       "Data variables:\n",
       "    u        (time, i, j) float64 dask.array<chunksize=(1, 180, 180), meta=np.ndarray>\n",
       "    v        (time, i, j) float64 dask.array<chunksize=(1, 180, 180), meta=np.ndarray>"
      ]
     },
     "execution_count": 8,
     "metadata": {},
     "output_type": "execute_result"
    }
   ],
   "source": [
    "filtered_vels"
   ]
  },
  {
   "cell_type": "code",
   "execution_count": 13,
   "id": "013f044c",
   "metadata": {},
   "outputs": [
    {
     "data": {
      "text/plain": [
       "<matplotlib.collections.QuadMesh at 0x155430846310>"
      ]
     },
     "execution_count": 13,
     "metadata": {},
     "output_type": "execute_result"
    },
    {
     "data": {
      "image/png": "[encoded data removed]",
      "text/plain": [
       "<Figure size 432x288 with 2 Axes>"
      ]
     },
     "metadata": {
      "needs_background": "light"
     },
     "output_type": "display_data"
    }
   ],
   "source": [
    "(v_unfiltered-v_filtered).plot(x='x0')"
   ]
  },
  {
   "cell_type": "code",
   "execution_count": null,
   "id": "d72d345d",
   "metadata": {},
   "outputs": [],
   "source": []
  }
 ],
 "metadata": {
  "kernelspec": {
   "display_name": "Python (ginsnburg_env)",
   "language": "python",
   "name": "ginsnburg_env"
  },
  "language_info": {
   "codemirror_mode": {
    "name": "ipython",
    "version": 3
   },
   "file_extension": ".py",
   "mimetype": "text/x-python",
   "name": "python",
   "nbconvert_exporter": "python",
   "pygments_lexer": "ipython3",
   "version": "3.9.4"
  }
 },
 "nbformat": 4,
 "nbformat_minor": 5
}
