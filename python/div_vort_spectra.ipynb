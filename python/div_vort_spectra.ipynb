{
 "cells": [
  {
   "cell_type": "code",
   "execution_count": 47,
   "metadata": {},
   "outputs": [],
   "source": [
    "#First let's import some packages\n",
    "import xarray as xr\n",
    "import numpy as np\n",
    "from xgcm.grid import Grid\n",
    "import xrft\n",
    "from dask.diagnostics import ProgressBar\n",
    "from matplotlib import pyplot as plt\n",
    "from pyresample.bilinear import NumpyBilinearResampler\n",
    "from pyresample import geometry\n",
    "from matplotlib.colors import LogNorm"
   ]
  },
  {
   "cell_type": "code",
   "execution_count": 54,
   "metadata": {},
   "outputs": [],
   "source": [
    "unfiltered_vels = xr.open_zarr('/swot/SUM03/spencer/agulhas_vels/unfiltered_vels.zarr')\n",
    "filtered_vels = xr.open_zarr('/swot/SUM03/spencer/agulhas_vels/filtered_vels.zarr')\n",
    "eul_filtered_vels = xr.open_zarr('/swot/SUM03/spencer/agulhas_vels/eul_filtered_vels.zarr')\n",
    "RAZ =np.fromfile('/swot/SUM01/spencer/swot_agulhas_test/RAZ.data', dtype='>f4').reshape(2160,2160)\n",
    "DXC =np.fromfile('/swot/SUM01/spencer/swot_agulhas_test/DXC.data', dtype='>f4').reshape(2160,2160)\n",
    "DYC =np.fromfile('/swot/SUM01/spencer/swot_agulhas_test/DYC.data', dtype='>f4').reshape(2160,2160)\n",
    "XC =np.fromfile('/swot/SUM01/spencer/swot_agulhas_test/XC.data', dtype='>f4').reshape(2160,2160)\n",
    "YC =np.fromfile('/swot/SUM01/spencer/swot_agulhas_test/YC.data', dtype='>f4').reshape(2160,2160)\n",
    "XG =np.fromfile('/swot/SUM01/spencer/swot_agulhas_test/XG.data', dtype='>f4').reshape(2160,2160)\n",
    "YG =np.fromfile('/swot/SUM01/spencer/swot_agulhas_test/YG.data', dtype='>f4').reshape(2160,2160)"
   ]
  },
  {
   "cell_type": "code",
   "execution_count": 3,
   "metadata": {},
   "outputs": [],
   "source": [
    "ds = eul_filtered_vels\n",
    "grid = Grid(ds,coords={'X': {'center': 'i', 'left': 'i_g'},'Y': {'center': 'j', 'left': 'j_g'}})\n",
    "ds = ds.assign_coords({\"raZ\":([\"j_g\",\"i_g\"],RAZ)})\n",
    "ds = ds.assign_coords({\"dxC\":([\"j\",\"i_g\"],DXC)})\n",
    "ds = ds.assign_coords({\"dyC\":([\"j_g\",\"i\"],DYC)})"
   ]
  },
  {
   "cell_type": "code",
   "execution_count": 4,
   "metadata": {},
   "outputs": [],
   "source": [
    "unf_utransport = unfiltered_vels.u*ds.dyG*ds.hFacW*ds.drF\n",
    "unf_vtransport = unfiltered_vels.v*ds.dxG*ds.hFacS*ds.drF\n",
    "\n",
    "eul_utransport = eul_filtered_vels.u*ds.dyG*ds.hFacW*ds.drF\n",
    "eul_vtransport = eul_filtered_vels.v*ds.dxG*ds.hFacS*ds.drF\n",
    "\n",
    "filt_utransport = filtered_vels.u*ds.dyG*ds.hFacW*ds.drF\n",
    "filt_vtransport = filtered_vels.v*ds.dxG*ds.hFacS*ds.drF"
   ]
  },
  {
   "cell_type": "code",
   "execution_count": 5,
   "metadata": {},
   "outputs": [],
   "source": [
    "div_unf = (grid.diff(unf_utransport, 'X') + grid.diff(unf_vtransport, 'Y')) / ds.raC\n",
    "div_eul = (grid.diff(eul_utransport, 'X') + grid.diff(eul_vtransport, 'Y')) / ds.raC\n",
    "div_filt = (grid.diff(filt_utransport, 'X') + grid.diff(filt_vtransport, 'Y')) / ds.raC"
   ]
  },
  {
   "cell_type": "code",
   "execution_count": 6,
   "metadata": {},
   "outputs": [],
   "source": [
    "zeta_unf = (-grid.diff(unfiltered_vels.u * ds.dxC, 'Y') + grid.diff(unfiltered_vels.v * ds.dyC, 'X'))/ds.raZ\n",
    "zeta_eul = (-grid.diff(eul_filtered_vels.u * ds.dxC, 'Y') + grid.diff(eul_filtered_vels.v * ds.dyC, 'X'))/ds.raZ\n",
    "zeta_filt = (-grid.diff(filtered_vels.u * ds.dxC, 'Y') + grid.diff(filtered_vels.v * ds.dyC, 'X'))/ds.raZ"
   ]
  },
  {
   "cell_type": "code",
   "execution_count": 7,
   "metadata": {},
   "outputs": [
    {
     "name": "stderr",
     "output_type": "stream",
     "text": [
      "/home/spencerj/.conda/envs/pangeo2/lib/python3.7/site-packages/xrft/xrft.py:51: FutureWarning: Please provide the name of window adhering to scipy.signal.windows. The boolean option will be deprecated in future releases.\n",
      "  FutureWarning,\n",
      "/home/spencerj/.conda/envs/pangeo2/lib/python3.7/site-packages/xrft/xrft.py:51: FutureWarning: Please provide the name of window adhering to scipy.signal.windows. The boolean option will be deprecated in future releases.\n",
      "  FutureWarning,\n"
     ]
    },
    {
     "name": "stdout",
     "output_type": "stream",
     "text": [
      "[########################################] | 100% Completed |  3min 50.4s\n"
     ]
    },
    {
     "name": "stderr",
     "output_type": "stream",
     "text": [
      "/home/spencerj/.conda/envs/pangeo2/lib/python3.7/site-packages/xrft/xrft.py:51: FutureWarning: Please provide the name of window adhering to scipy.signal.windows. The boolean option will be deprecated in future releases.\n",
      "  FutureWarning,\n",
      "/home/spencerj/.conda/envs/pangeo2/lib/python3.7/site-packages/xrft/xrft.py:51: FutureWarning: Please provide the name of window adhering to scipy.signal.windows. The boolean option will be deprecated in future releases.\n",
      "  FutureWarning,\n"
     ]
    },
    {
     "name": "stdout",
     "output_type": "stream",
     "text": [
      "[########################################] | 100% Completed |  3min 40.0s\n"
     ]
    }
   ],
   "source": [
    "with ProgressBar():\n",
    "    div_un = xrft.power_spectrum(div_unf.chunk({'time':-1}),dim=['time'], window=True,window_correction=True\n",
    "                                   ).compute()#, detrend='linear'\n",
    "    vort_un = xrft.power_spectrum(zeta_unf.chunk({'time':-1}),dim=['time'], window=True,window_correction=True\n",
    "                                   ).compute()#, detrend='linear'"
   ]
  },
  {
   "cell_type": "code",
   "execution_count": 8,
   "metadata": {},
   "outputs": [
    {
     "name": "stderr",
     "output_type": "stream",
     "text": [
      "/home/spencerj/.conda/envs/pangeo2/lib/python3.7/site-packages/xrft/xrft.py:51: FutureWarning: Please provide the name of window adhering to scipy.signal.windows. The boolean option will be deprecated in future releases.\n",
      "  FutureWarning,\n",
      "/home/spencerj/.conda/envs/pangeo2/lib/python3.7/site-packages/xrft/xrft.py:51: FutureWarning: Please provide the name of window adhering to scipy.signal.windows. The boolean option will be deprecated in future releases.\n",
      "  FutureWarning,\n"
     ]
    },
    {
     "name": "stdout",
     "output_type": "stream",
     "text": [
      "[########################################] | 100% Completed | 10.4s\n"
     ]
    },
    {
     "name": "stderr",
     "output_type": "stream",
     "text": [
      "/home/spencerj/.conda/envs/pangeo2/lib/python3.7/site-packages/xrft/xrft.py:51: FutureWarning: Please provide the name of window adhering to scipy.signal.windows. The boolean option will be deprecated in future releases.\n",
      "  FutureWarning,\n",
      "/home/spencerj/.conda/envs/pangeo2/lib/python3.7/site-packages/xrft/xrft.py:51: FutureWarning: Please provide the name of window adhering to scipy.signal.windows. The boolean option will be deprecated in future releases.\n",
      "  FutureWarning,\n"
     ]
    },
    {
     "name": "stdout",
     "output_type": "stream",
     "text": [
      "[########################################] | 100% Completed |  8.4s\n"
     ]
    }
   ],
   "source": [
    "with ProgressBar():\n",
    "    div_e = xrft.power_spectrum(div_eul.chunk({'time':-1}),dim=['time'], window=True,window_correction=True\n",
    "                                   ).compute()#, detrend='linear'\n",
    "    vort_e = xrft.power_spectrum(zeta_eul.chunk({'time':-1}),dim=['time'], window=True,window_correction=True\n",
    "                                   ).compute()#, detrend='linear'"
   ]
  },
  {
   "cell_type": "code",
   "execution_count": 9,
   "metadata": {},
   "outputs": [
    {
     "name": "stderr",
     "output_type": "stream",
     "text": [
      "/home/spencerj/.conda/envs/pangeo2/lib/python3.7/site-packages/xrft/xrft.py:51: FutureWarning: Please provide the name of window adhering to scipy.signal.windows. The boolean option will be deprecated in future releases.\n",
      "  FutureWarning,\n",
      "/home/spencerj/.conda/envs/pangeo2/lib/python3.7/site-packages/xrft/xrft.py:51: FutureWarning: Please provide the name of window adhering to scipy.signal.windows. The boolean option will be deprecated in future releases.\n",
      "  FutureWarning,\n"
     ]
    },
    {
     "name": "stdout",
     "output_type": "stream",
     "text": [
      "[########################################] | 100% Completed |  3min 38.7s\n"
     ]
    },
    {
     "name": "stderr",
     "output_type": "stream",
     "text": [
      "/home/spencerj/.conda/envs/pangeo2/lib/python3.7/site-packages/xrft/xrft.py:51: FutureWarning: Please provide the name of window adhering to scipy.signal.windows. The boolean option will be deprecated in future releases.\n",
      "  FutureWarning,\n",
      "/home/spencerj/.conda/envs/pangeo2/lib/python3.7/site-packages/xrft/xrft.py:51: FutureWarning: Please provide the name of window adhering to scipy.signal.windows. The boolean option will be deprecated in future releases.\n",
      "  FutureWarning,\n"
     ]
    },
    {
     "name": "stdout",
     "output_type": "stream",
     "text": [
      "[########################################] | 100% Completed |  3min 38.0s\n"
     ]
    }
   ],
   "source": [
    "with ProgressBar():\n",
    "    div_f = xrft.power_spectrum(div_filt.chunk({'time':-1}),dim=['time'], window=True,window_correction=True\n",
    "                                   ).compute()#, detrend='linear'\n",
    "    vort_f = xrft.power_spectrum(zeta_filt.chunk({'time':-1}),dim=['time'], window=True,window_correction=True\n",
    "                                   ).compute()#, detrend='linear'"
   ]
  },
  {
   "cell_type": "code",
   "execution_count": 10,
   "metadata": {},
   "outputs": [],
   "source": [
    "spec0 = int((div_un['freq_time'].size-1)/2)\n",
    "\n",
    "fm = 2*2*np.pi/24/3600*np.sin(-43*np.pi/180)"
   ]
  },
  {
   "cell_type": "code",
   "execution_count": 72,
   "metadata": {},
   "outputs": [
    {
     "data": {
      "image/png": "[encoded data removed]",
      "text/plain": [
       "<Figure size 1080x360 with 3 Axes>"
      ]
     },
     "metadata": {
      "needs_background": "light"
     },
     "output_type": "display_data"
    }
   ],
   "source": [
    "xticks_s = [6*10**-2,10**-1,2*10**-1,4*10**-1]\n",
    "\n",
    "plt.figure(figsize=(15,5))\n",
    "\n",
    "plt.subplot(131)\n",
    "plt.plot(div_un.freq_time[spec0:]*3600,div_un.mean(['i','j'])[spec0:],label='div')\n",
    "plt.plot(vort_un.freq_time[spec0:]*3600,vort_un.mean(['i_g','j_g'])[spec0:],label='vort')\n",
    "#plt.axvline([1/86400*3600],label='Diurnal',color='r')\n",
    "plt.axvline([2/86400*3600],label='Semi-diurnal',color='b')\n",
    "plt.axvline([-fm/2/np.pi*3600],label='Inertial',color='k')\n",
    "plt.ylabel('Power Spectral Density')\n",
    "\n",
    "\n",
    "plt.legend()\n",
    "plt.xscale('log')\n",
    "plt.yscale('log')\n",
    "plt.title('Unfiltered')\n",
    "plt.ylim(10**-8,10**-5)\n",
    "plt.xlim(0.04,0.5)\n",
    "plt.xticks(xticks_s,xticks_s, rotation=45)\n",
    "plt.xlabel('Frequency (cph)')\n",
    "\n",
    "plt.subplot(132)\n",
    "plt.plot(div_e.freq_time[spec0:]*3600,div_e.mean(['i','j'])[spec0:],label='div')\n",
    "plt.plot(vort_e.freq_time[spec0:]*3600,vort_un.mean(['i_g','j_g'])[spec0:],label='vort')\n",
    "#plt.axvline([1/86400*3600],label='Diurnal',color='r')\n",
    "plt.axvline([2/86400*3600],label='Semi-diurnal',color='b')\n",
    "plt.axvline([-fm/2/np.pi*3600],label='Inertial',color='k')\n",
    "#plt.axvline([-f2/2/np.pi],label='Inertial 2',color='k')\n",
    "#left, width = -f1/2/np.pi, -f2/2/np.pi+f1/2/np.pi\n",
    "#bottom, height = 0, 10**8\n",
    "#ax = plt.gca()\n",
    "#p = plt.Rectangle((left, bottom), width, height, fill=True,color='k',alpha=0.4)\n",
    "#ax.add_patch(p)\n",
    "\n",
    "plt.legend()\n",
    "plt.xscale('log')\n",
    "plt.yscale('log')\n",
    "plt.title('Eulerian filtered')\n",
    "plt.ylim(10**-8,10**-5)\n",
    "plt.xlim(0.04,0.5)\n",
    "plt.xticks(xticks_s,xticks_s, rotation=45)\n",
    "plt.xlabel('Frequency (cph)')\n",
    "\n",
    "\n",
    "plt.subplot(133)\n",
    "plt.plot(div_f.freq_time[spec0:]*3600,div_f.mean(['i','j'])[spec0:],label='div')\n",
    "plt.plot(vort_f.freq_time[spec0:]*3600,vort_un.mean(['i_g','j_g'])[spec0:],label='vort')\n",
    "#plt.axvline([1/86400*3600],label='Diurnal',color='r')\n",
    "plt.axvline([2/86400*3600],label='Semi-diurnal',color='b')\n",
    "plt.axvline([-fm/2/np.pi*3600],label='Inertial',color='k')\n",
    "#plt.axvline([-f2/2/np.pi],label='Inertial 2',color='k')\n",
    "#left, width = -f1/2/np.pi, -f2/2/np.pi+f1/2/np.pi\n",
    "#bottom, height = 0, 10**8\n",
    "#ax = plt.gca()\n",
    "#p = plt.Rectangle((left, bottom), width, height, fill=True,color='k',alpha=0.4)\n",
    "#ax.add_patch(p)\n",
    "\n",
    "plt.legend()\n",
    "plt.xscale('log')\n",
    "plt.yscale('log')\n",
    "plt.title('Lagrangian filtered')\n",
    "plt.ylim(10**-8,10**-5)\n",
    "plt.xlim(0.04,0.5)\n",
    "plt.xticks(xticks_s,xticks_s, rotation=45)\n",
    "plt.xlabel('Frequency (cph)')\n",
    "\n",
    "plt.tight_layout()\n",
    "fig=plt.gcf()\n",
    "fig.savefig('div_filt_unfilt.png')"
   ]
  },
  {
   "cell_type": "code",
   "execution_count": 12,
   "metadata": {},
   "outputs": [],
   "source": [
    "div_unf = div_unf.assign_coords(x0=(\"i\", XC[0,:])).swap_dims({\"i\": \"x0\"})\n",
    "div_unf = div_unf.assign_coords(y0=(\"j\", YC[:,0])).swap_dims({\"j\": \"y0\"})\n",
    "div_eul = div_eul.assign_coords(x0=(\"i\", XC[0,:])).swap_dims({\"i\": \"x0\"})\n",
    "div_eul = div_eul.assign_coords(y0=(\"j\", YC[:,0])).swap_dims({\"j\": \"y0\"})\n",
    "div_filt = div_filt.assign_coords(x0=(\"i\", XC[0,:])).swap_dims({\"i\": \"x0\"})\n",
    "div_filt = div_filt.assign_coords(y0=(\"j\", YC[:,0])).swap_dims({\"j\": \"y0\"})"
   ]
  },
  {
   "cell_type": "code",
   "execution_count": 56,
   "metadata": {},
   "outputs": [],
   "source": [
    "zeta_unf = zeta_unf.assign_coords(x0=(\"i_g\", XG[0,:])).swap_dims({\"i_g\": \"x0\"})\n",
    "zeta_unf = zeta_unf.assign_coords(y0=(\"j_g\", YG[:,0])).swap_dims({\"j_g\": \"y0\"})\n",
    "zeta_eul = zeta_eul.assign_coords(x0=(\"i_g\", XG[0,:])).swap_dims({\"i_g\": \"x0\"})\n",
    "zeta_eul = zeta_eul.assign_coords(y0=(\"j_g\", YG[:,0])).swap_dims({\"j_g\": \"y0\"})\n",
    "zeta_filt = zeta_filt.assign_coords(x0=(\"i_g\", XG[0,:])).swap_dims({\"i_g\": \"x0\"})\n",
    "zeta_filt = zeta_filt.assign_coords(y0=(\"j_g\", YG[:,0])).swap_dims({\"j_g\": \"y0\"})"
   ]
  },
  {
   "cell_type": "code",
   "execution_count": 57,
   "metadata": {},
   "outputs": [],
   "source": [
    "lons, lats = np.meshgrid(div_unf.x0.values, div_unf.y0.values)\n",
    "lonsg, latsg = np.meshgrid(zeta_unf.x0.values, zeta_unf.y0.values)"
   ]
  },
  {
   "cell_type": "code",
   "execution_count": 59,
   "metadata": {},
   "outputs": [],
   "source": [
    "def target_area_def(ds_patch,variable_name):\n",
    "    \"\"\"Get a pyresample area_def for a given patch.\"\"\"\n",
    "    center_point = ds_patch.isel(x0=ds_patch.x0.size//2, y0=ds_patch.y0.size//2)\n",
    "    center_lon, center_lat = center_point.x0.values.item(), center_point.y0.values.item()\n",
    "    area_id = 'local_grid'\n",
    "    description = 'Local Lambert Equal Area Grid'\n",
    "    proj_id = 'local_grid'\n",
    "    proj_dict = {'proj': 'laea', 'lat_0': center_lat, 'lon_0': center_lon, 'units': 'm'} #  'a': 6371228.0,\n",
    "\n",
    "    # 1 km resolution\n",
    "    width = 512#2160\n",
    "    height = 512#2160\n",
    "\n",
    "    # 512 x 512 km\n",
    "    area_extent = (-270000., -270000., 270000., 270000.)\n",
    "    area_def = geometry.AreaDefinition(area_id, description, proj_id, proj_dict,\n",
    "                                       width, height, area_extent)\n",
    "    return area_def\n",
    "\n",
    "\n",
    "\n",
    "def resample_transposed(data, resampler):\n",
    "    return np.transpose(resampler.resample(data), (2, 1, 0))\n",
    "\n",
    "def ufunc_resample(data,lons,lats):\n",
    "    target_def = target_area_def(data.isel(time=0),'U')\n",
    "    source_def = geometry.SwathDefinition(lons=lons, lats=lats)\n",
    "    resampler = NumpyBilinearResampler(source_def, target_def, 30e3)\n",
    "    resampled = xr.apply_ufunc(resample_transposed,data,resampler,input_core_dims=[['x0','y0'],['x0','y0']],output_core_dims=[['y1','x1']])\n",
    "    return resampled"
   ]
  },
  {
   "cell_type": "code",
   "execution_count": 60,
   "metadata": {},
   "outputs": [
    {
     "name": "stderr",
     "output_type": "stream",
     "text": [
      "/home/spencerj/.conda/envs/pangeo2/lib/python3.7/site-packages/pyproj/crs/crs.py:543: UserWarning: You will likely lose important projection information when converting to a PROJ string from another format. See: https://proj.org/faq.html#what-is-the-best-format-for-describing-coordinate-reference-systems\n",
      "  proj_string = self.to_proj4()\n",
      "/home/spencerj/.conda/envs/pangeo2/lib/python3.7/site-packages/pyproj/crs/crs.py:543: UserWarning: You will likely lose important projection information when converting to a PROJ string from another format. See: https://proj.org/faq.html#what-is-the-best-format-for-describing-coordinate-reference-systems\n",
      "  proj_string = self.to_proj4()\n",
      "/home/spencerj/.conda/envs/pangeo2/lib/python3.7/site-packages/pyproj/crs/crs.py:543: UserWarning: You will likely lose important projection information when converting to a PROJ string from another format. See: https://proj.org/faq.html#what-is-the-best-format-for-describing-coordinate-reference-systems\n",
      "  proj_string = self.to_proj4()\n"
     ]
    }
   ],
   "source": [
    "div_un_resampled = ufunc_resample(div_unf.load(),lons,lats)\n",
    "div_eul_resampled = ufunc_resample(div_eul.load(),lons,lats)\n",
    "div_filt_resampled = ufunc_resample(div_filt.load(),lons,lats)"
   ]
  },
  {
   "cell_type": "code",
   "execution_count": 61,
   "metadata": {},
   "outputs": [
    {
     "name": "stderr",
     "output_type": "stream",
     "text": [
      "/home/spencerj/.conda/envs/pangeo2/lib/python3.7/site-packages/pyproj/crs/crs.py:543: UserWarning: You will likely lose important projection information when converting to a PROJ string from another format. See: https://proj.org/faq.html#what-is-the-best-format-for-describing-coordinate-reference-systems\n",
      "  proj_string = self.to_proj4()\n",
      "/home/spencerj/.conda/envs/pangeo2/lib/python3.7/site-packages/pyproj/crs/crs.py:543: UserWarning: You will likely lose important projection information when converting to a PROJ string from another format. See: https://proj.org/faq.html#what-is-the-best-format-for-describing-coordinate-reference-systems\n",
      "  proj_string = self.to_proj4()\n",
      "/home/spencerj/.conda/envs/pangeo2/lib/python3.7/site-packages/pyproj/crs/crs.py:543: UserWarning: You will likely lose important projection information when converting to a PROJ string from another format. See: https://proj.org/faq.html#what-is-the-best-format-for-describing-coordinate-reference-systems\n",
      "  proj_string = self.to_proj4()\n"
     ]
    }
   ],
   "source": [
    "zeta_un_resampled = ufunc_resample(zeta_unf.load(),lonsg,latsg)\n",
    "zeta_eul_resampled = ufunc_resample(zeta_eul.load(),lonsg,latsg)\n",
    "zeta_filt_resampled = ufunc_resample(zeta_filt.load(),lonsg,latsg)"
   ]
  },
  {
   "cell_type": "code",
   "execution_count": 62,
   "metadata": {},
   "outputs": [
    {
     "name": "stderr",
     "output_type": "stream",
     "text": [
      "/home/spencerj/.conda/envs/pangeo2/lib/python3.7/site-packages/xrft/xrft.py:51: FutureWarning: Please provide the name of window adhering to scipy.signal.windows. The boolean option will be deprecated in future releases.\n",
      "  FutureWarning,\n",
      "/home/spencerj/.conda/envs/pangeo2/lib/python3.7/site-packages/xrft/xrft.py:51: FutureWarning: Please provide the name of window adhering to scipy.signal.windows. The boolean option will be deprecated in future releases.\n",
      "  FutureWarning,\n",
      "/home/spencerj/.conda/envs/pangeo2/lib/python3.7/site-packages/xrft/xrft.py:51: FutureWarning: Please provide the name of window adhering to scipy.signal.windows. The boolean option will be deprecated in future releases.\n",
      "  FutureWarning,\n"
     ]
    }
   ],
   "source": [
    "with ProgressBar():\n",
    "    div_un_ps = xrft.power_spectrum(div_un_resampled, dim=['x1','y1','time'],window=True,window_correction=True).compute()\n",
    "    div_eul_ps = xrft.power_spectrum(div_eul_resampled, dim=['x1','y1','time'],window=True,window_correction=True).compute()\n",
    "    div_filt_ps = xrft.power_spectrum(div_filt_resampled, dim=['x1','y1','time'],window=True,window_correction=True).compute()"
   ]
  },
  {
   "cell_type": "code",
   "execution_count": 63,
   "metadata": {},
   "outputs": [
    {
     "name": "stderr",
     "output_type": "stream",
     "text": [
      "/home/spencerj/.conda/envs/pangeo2/lib/python3.7/site-packages/xrft/xrft.py:51: FutureWarning: Please provide the name of window adhering to scipy.signal.windows. The boolean option will be deprecated in future releases.\n",
      "  FutureWarning,\n",
      "/home/spencerj/.conda/envs/pangeo2/lib/python3.7/site-packages/xrft/xrft.py:51: FutureWarning: Please provide the name of window adhering to scipy.signal.windows. The boolean option will be deprecated in future releases.\n",
      "  FutureWarning,\n",
      "/home/spencerj/.conda/envs/pangeo2/lib/python3.7/site-packages/xrft/xrft.py:51: FutureWarning: Please provide the name of window adhering to scipy.signal.windows. The boolean option will be deprecated in future releases.\n",
      "  FutureWarning,\n"
     ]
    }
   ],
   "source": [
    "with ProgressBar():\n",
    "    zeta_un_ps = xrft.power_spectrum(zeta_un_resampled, dim=['x1','y1','time'],window=True,window_correction=True).compute()\n",
    "    zeta_eul_ps = xrft.power_spectrum(zeta_eul_resampled, dim=['x1','y1','time'],window=True,window_correction=True).compute()\n",
    "    zeta_filt_ps = xrft.power_spectrum(zeta_filt_resampled, dim=['x1','y1','time'],window=True,window_correction=True).compute()"
   ]
  },
  {
   "cell_type": "code",
   "execution_count": 64,
   "metadata": {},
   "outputs": [],
   "source": [
    "# Add the isotropic calculation (k,l) -> (k_r) (azimuthally average)\n",
    "def azimuthal_avg(k, l, f, N, nfactor):\n",
    "    \"\"\"\n",
    "    Takes the azimuthal average of a given field.\n",
    "    \"\"\"\n",
    "    k = k.values; l = l.values\n",
    "    kk, ll = np.meshgrid(k, l)\n",
    "    K = np.sqrt(kk**2 + ll**2)\n",
    "    nbins = int(N/nfactor)\n",
    "    if k.max() > l.max():\n",
    "        ki = np.linspace(0., l.max(), nbins)\n",
    "    else:\n",
    "        ki = np.linspace(0., k.max(), nbins)\n",
    "\n",
    "    kidx = np.digitize(np.ravel(K), ki)\n",
    "    area = np.bincount(kidx)\n",
    "\n",
    "    kr = np.bincount(kidx, weights=K.ravel()) / area\n",
    "\n",
    "    if f.ndim == 2:\n",
    "        iso_f = np.ma.masked_invalid(np.bincount(kidx,\n",
    "                                    weights=f.data.ravel())\n",
    "                                    / area) * kr\n",
    "    else:\n",
    "        raise ValueError('The data has too many or few dimensions. '\n",
    "                        'The input should only have the two dimensions '\n",
    "                        'to take the azimuthal averaging over.')\n",
    "\n",
    "    return kr, iso_f\n",
    "\n",
    "def iso_spec_over_depth(ds):\n",
    "    \n",
    "    Zlen = len(ds.Z)\n",
    "    klen = len(ds.freq_XC)\n",
    "    omegalen = len(ds.freq_time)\n",
    "    \n",
    "    nfactor = 4. \n",
    "    ds_iso = np.zeros([omegalen , Zlen, int(klen/nfactor+1)])\n",
    "\n",
    "    for j in range(0,omegalen):\n",
    "        for i in range(0,Zlen):\n",
    "            kr, ds_iso[j,i,:] = azimuthal_avg(ds.freq_XC, ds.freq_YC, ds.isel(Z=i, freq_time=j), \n",
    "                            len(ds.freq_XC), nfactor)\n",
    "    kr[0] = 0.\n",
    "    ds_iso_xr = xr.DataArray(ds_iso, coords={'freq_time':ds.freq_time.values, 'Z': ds.Z.values, 'kr':kr }, \n",
    "                             dims=['freq_time','Z', 'kr'])\n",
    "    \n",
    "    return ds_iso_xr\n",
    "\n",
    "def iso_spec(ds):\n",
    "    \n",
    "    #Zlen = len(ds.Z)\n",
    "    klen = len(ds.freq_x1)\n",
    "    omegalen = len(ds.freq_time)\n",
    "    \n",
    "    nfactor = 4. \n",
    "    ds_iso = np.zeros([omegalen ,  int(klen/nfactor+1)])\n",
    "\n",
    "    for j in range(0,omegalen):\n",
    "            kr, ds_iso[j,:] = azimuthal_avg(ds.freq_x1, ds.freq_y1, ds.isel(freq_time=j), \n",
    "                            len(ds.freq_x1), nfactor)\n",
    "    kr[0] = 0.\n",
    "    ds_iso_xr = xr.DataArray(ds_iso, coords={'freq_time':ds.freq_time.values, 'kr':kr }, \n",
    "                             dims=['freq_time','kr'])\n",
    "    \n",
    "    return ds_iso_xr"
   ]
  },
  {
   "cell_type": "code",
   "execution_count": 68,
   "metadata": {},
   "outputs": [
    {
     "name": "stderr",
     "output_type": "stream",
     "text": [
      "/home/spencerj/.conda/envs/pangeo2/lib/python3.7/site-packages/ipykernel/__main__.py:18: RuntimeWarning: invalid value encountered in true_divide\n",
      "/home/spencerj/.conda/envs/pangeo2/lib/python3.7/site-packages/ipykernel/__main__.py:23: RuntimeWarning: invalid value encountered in true_divide\n"
     ]
    }
   ],
   "source": [
    "ps_iso_unfilt = iso_spec(div_un_ps)\n",
    "ps_iso_eul = iso_spec(div_eul_ps)\n",
    "ps_iso = iso_spec(div_filt_ps)"
   ]
  },
  {
   "cell_type": "code",
   "execution_count": 69,
   "metadata": {},
   "outputs": [
    {
     "name": "stderr",
     "output_type": "stream",
     "text": [
      "/home/spencerj/.conda/envs/pangeo2/lib/python3.7/site-packages/ipykernel/__main__.py:18: RuntimeWarning: invalid value encountered in true_divide\n",
      "/home/spencerj/.conda/envs/pangeo2/lib/python3.7/site-packages/ipykernel/__main__.py:23: RuntimeWarning: invalid value encountered in true_divide\n"
     ]
    }
   ],
   "source": [
    "ps_iso_zunfilt = iso_spec(zeta_un_ps)\n",
    "ps_iso_zeul = iso_spec(zeta_eul_ps)\n",
    "ps_ziso = iso_spec(zeta_filt_ps)"
   ]
  },
  {
   "cell_type": "code",
   "execution_count": 73,
   "metadata": {},
   "outputs": [
    {
     "name": "stderr",
     "output_type": "stream",
     "text": [
      "/home/spencerj/.conda/envs/pangeo2/lib/python3.7/site-packages/ipykernel/__main__.py:9: UserWarning: Log scale: values of z <= 0 have been masked\n",
      "/home/spencerj/.conda/envs/pangeo2/lib/python3.7/site-packages/ipykernel/__main__.py:28: UserWarning: Log scale: values of z <= 0 have been masked\n",
      "/home/spencerj/.conda/envs/pangeo2/lib/python3.7/site-packages/ipykernel/__main__.py:47: UserWarning: Log scale: values of z <= 0 have been masked\n"
     ]
    },
    {
     "data": {
      "image/png": "[encoded data removed]",
      "text/plain": [
       "<Figure size 1080x360 with 4 Axes>"
      ]
     },
     "metadata": {
      "needs_background": "light"
     },
     "output_type": "display_data"
    }
   ],
   "source": [
    "yticks_s = [5*10**-2,10**-1,2*10**-1,4*10**-1]\n",
    "\n",
    "plt.figure(figsize=(15,5))\n",
    "omega = ps_iso.freq_time*3600\n",
    "kr    = ps_iso.kr\n",
    "lev_exp = np.linspace(-12,-7,16)\n",
    "lev = np.power(10, lev_exp)\n",
    "plt.subplot(131)\n",
    "cs = plt.contourf(kr,omega,np.abs(omega)*kr*ps_iso_unfilt,lev,norm=LogNorm(), cmap='magma',extend='both')\n",
    "#plt.colorbar(cs)\n",
    "\n",
    "#for i in range(0,6):\n",
    "#    plt.plot(kr, omegaM[:,i]/np.pi/2, label=i,color='g')\n",
    "#plt.plot(ps_iso.kr.values, omega_disp.values,'k')\n",
    "plt.xscale('log')\n",
    "plt.yscale('log')\n",
    "plt.xlim([0.005, 0.25])\n",
    "plt.ylim([0.04, 0.5])\n",
    "plt.ylabel('$\\omega [cph] $')\n",
    "plt.xlabel('$\\kappa_r (cycles/km)$')\n",
    "plt.tight_layout()\n",
    "plt.title('Unfiltered')\n",
    "plt.axhline(-fm/np.pi/2*3600,color='k')\n",
    "plt.axhline([2/86400*3600],label='Semi-diurnal',color='b')\n",
    "plt.yticks(yticks_s,yticks_s,rotation=45)\n",
    "\n",
    "plt.subplot(132)\n",
    "cs = plt.contourf(kr,omega,np.abs(omega)*kr*ps_iso_eul,lev,norm=LogNorm(), cmap='magma',extend='both')\n",
    "#plt.colorbar(cs)\n",
    "\n",
    "#for i in range(0,6):\n",
    "#    plt.plot(kr, omegaM[:,i]/np.pi/2, label=i,color='g')\n",
    "#plt.plot(ps_iso.kr.values, omega_disp.values,'k')\n",
    "plt.xscale('log')\n",
    "plt.yscale('log')\n",
    "plt.xlim([0.005, 0.25])\n",
    "plt.ylim([0.04, 0.5])\n",
    "#plt.ylabel('$\\omega [cph] $')\n",
    "plt.xlabel('$\\kappa_r (cycles/km)$')\n",
    "plt.tight_layout()\n",
    "plt.title('Filtered, Eulerian')\n",
    "plt.axhline(-fm/np.pi/2*3600,color='k')\n",
    "plt.axhline([2/86400*3600],label='Semi-diurnal',color='b')\n",
    "plt.yticks(yticks_s,yticks_s,rotation=45)\n",
    "\n",
    "plt.subplot(133)\n",
    "cs = plt.contourf(kr,omega,np.abs(omega)*kr*ps_iso,lev,norm=LogNorm(), cmap='magma',extend='both')\n",
    "#plt.colorbar(cs)\n",
    "\n",
    "#for i in range(0,6):\n",
    "#    plt.plot(kr, omegaM[:,i]/np.pi/2, label=i,color='g')\n",
    "#plt.plot(ps_iso.kr.values, omega_disp.values,'k')\n",
    "plt.xscale('log')\n",
    "plt.yscale('log')\n",
    "plt.xlim([0.005, 0.25])\n",
    "plt.ylim([0.04, 0.5])\n",
    "#plt.ylabel('$\\omega [cph] $')\n",
    "plt.xlabel('$\\kappa_r (cycles/km)$')\n",
    "plt.tight_layout()\n",
    "plt.title('Filtered, Lagrangian')\n",
    "plt.axhline(-fm/np.pi/2*3600,color='k')\n",
    "plt.axhline([2/86400*3600],label='Semi-diurnal',color='b')\n",
    "plt.yticks(yticks_s,yticks_s,rotation=45)\n",
    "\n",
    "\n",
    "\n",
    "fig=plt.gcf()\n",
    "plt.tight_layout()\n",
    "fig.subplots_adjust(right=0.91)\n",
    "cbar_ax = fig.add_axes([0.93, 0.18, 0.02, 0.72])\n",
    "fig.colorbar(cs, cax=cbar_ax)\n",
    "\n",
    "\n",
    "fig.savefig('wavenumber_freq_div.png')"
   ]
  },
  {
   "cell_type": "code",
   "execution_count": 71,
   "metadata": {},
   "outputs": [
    {
     "name": "stderr",
     "output_type": "stream",
     "text": [
      "/home/spencerj/.conda/envs/pangeo2/lib/python3.7/site-packages/ipykernel/__main__.py:9: UserWarning: Log scale: values of z <= 0 have been masked\n",
      "/home/spencerj/.conda/envs/pangeo2/lib/python3.7/site-packages/ipykernel/__main__.py:28: UserWarning: Log scale: values of z <= 0 have been masked\n",
      "/home/spencerj/.conda/envs/pangeo2/lib/python3.7/site-packages/ipykernel/__main__.py:47: UserWarning: Log scale: values of z <= 0 have been masked\n"
     ]
    },
    {
     "data": {
      "image/png": "[encoded data removed]",
      "text/plain": [
       "<Figure size 1080x360 with 4 Axes>"
      ]
     },
     "metadata": {
      "needs_background": "light"
     },
     "output_type": "display_data"
    }
   ],
   "source": [
    "yticks_s = [5*10**-2,10**-1,2*10**-1,4*10**-1]\n",
    "\n",
    "plt.figure(figsize=(15,5))\n",
    "omega = ps_iso.freq_time*3600\n",
    "kr    = ps_iso.kr\n",
    "lev_exp = np.linspace(-12,-7,16)\n",
    "lev = np.power(10, lev_exp)\n",
    "plt.subplot(131)\n",
    "cs = plt.contourf(kr,omega,np.abs(omega)*kr*ps_iso_zunfilt,lev,norm=LogNorm(), cmap='magma',extend='both')\n",
    "#plt.colorbar(cs)\n",
    "\n",
    "#for i in range(0,6):\n",
    "#    plt.plot(kr, omegaM[:,i]/np.pi/2, label=i,color='g')\n",
    "#plt.plot(ps_iso.kr.values, omega_disp.values,'k')\n",
    "plt.xscale('log')\n",
    "plt.yscale('log')\n",
    "plt.xlim([0.005, 0.25])\n",
    "plt.ylim([0.04, 0.5])\n",
    "plt.ylabel('$\\omega [cph] $')\n",
    "plt.xlabel('$\\kappa_r (cycles/km)$')\n",
    "plt.tight_layout()\n",
    "plt.title('Unfiltered')\n",
    "plt.axhline(-fm/np.pi/2*3600,color='k')\n",
    "plt.axhline([2/86400*3600],label='Semi-diurnal',color='b')\n",
    "plt.yticks(yticks_s,yticks_s,rotation=45)\n",
    "\n",
    "plt.subplot(132)\n",
    "cs = plt.contourf(kr,omega,np.abs(omega)*kr*ps_iso_zeul,lev,norm=LogNorm(), cmap='magma',extend='both')\n",
    "#plt.colorbar(cs)\n",
    "\n",
    "#for i in range(0,6):\n",
    "#    plt.plot(kr, omegaM[:,i]/np.pi/2, label=i,color='g')\n",
    "#plt.plot(ps_iso.kr.values, omega_disp.values,'k')\n",
    "plt.xscale('log')\n",
    "plt.yscale('log')\n",
    "plt.xlim([0.005, 0.25])\n",
    "plt.ylim([0.04, 0.5])\n",
    "#plt.ylabel('$\\omega [cph] $')\n",
    "plt.xlabel('$\\kappa_r (cycles/km)$')\n",
    "plt.tight_layout()\n",
    "plt.title('Filtered, Eulerian')\n",
    "plt.axhline(-fm/np.pi/2*3600,color='k')\n",
    "plt.axhline([2/86400*3600],label='Semi-diurnal',color='b')\n",
    "plt.yticks(yticks_s,yticks_s,rotation=45)\n",
    "\n",
    "plt.subplot(133)\n",
    "cs = plt.contourf(kr,omega,np.abs(omega)*kr*ps_ziso,lev,norm=LogNorm(), cmap='magma',extend='both')\n",
    "#plt.colorbar(cs)\n",
    "\n",
    "#for i in range(0,6):\n",
    "#    plt.plot(kr, omegaM[:,i]/np.pi/2, label=i,color='g')\n",
    "#plt.plot(ps_iso.kr.values, omega_disp.values,'k')\n",
    "plt.xscale('log')\n",
    "plt.yscale('log')\n",
    "plt.xlim([0.005, 0.25])\n",
    "plt.ylim([0.04, 0.5])\n",
    "#plt.ylabel('$\\omega [cph] $')\n",
    "plt.xlabel('$\\kappa_r (cycles/km)$')\n",
    "plt.tight_layout()\n",
    "plt.title('Filtered, Lagrangian')\n",
    "plt.axhline(-fm/np.pi/2*3600,color='k')\n",
    "plt.axhline([2/86400*3600],label='Semi-diurnal',color='b')\n",
    "plt.yticks(yticks_s,yticks_s,rotation=45)\n",
    "\n",
    "\n",
    "\n",
    "fig=plt.gcf()\n",
    "plt.tight_layout()\n",
    "fig.subplots_adjust(right=0.91)\n",
    "cbar_ax = fig.add_axes([0.93, 0.18, 0.02, 0.72])\n",
    "fig.colorbar(cs, cax=cbar_ax)\n",
    "\n",
    "\n",
    "fig.savefig('wavenumber_freq_zeta.png')"
   ]
  },
  {
   "cell_type": "code",
   "execution_count": null,
   "metadata": {},
   "outputs": [],
   "source": []
  }
 ],
 "metadata": {
  "kernelspec": {
   "display_name": "Python [conda env:pangeo2]",
   "language": "python",
   "name": "conda-env-pangeo2-py"
  },
  "language_info": {
   "codemirror_mode": {
    "name": "ipython",
    "version": 3
   },
   "file_extension": ".py",
   "mimetype": "text/x-python",
   "name": "python",
   "nbconvert_exporter": "python",
   "pygments_lexer": "ipython3",
   "version": "3.7.9"
  }
 },
 "nbformat": 4,
 "nbformat_minor": 2
}
